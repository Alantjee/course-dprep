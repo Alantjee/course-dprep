{
 "cells": [
  {
   "cell_type": "markdown",
   "metadata": {},
   "source": [
    "# Web Scraping 101 (oDCM)\n",
    "\n",
    "*After finishing this tutorial, you can extract data from multiple pages on the web, and export such data to CSV files so that you can use it in an analysis. Plan a few hours to work through this notebook. Taking a few breaks inbetween keeps you sharp! Enjoy!*\n",
    "\n",
    "--- \n",
    "\n",
    "## Learning Objectives\n",
    "\n",
    "* Generate lists of entities to scrape data from\n",
    "* Map navigation path on a website using URLs, and understand how to use parameters to modify results\n",
    "* Select data for extraction on a website using CSS selectors\n",
    "* Write data to CSV file, and enrich with relevant metadata\n",
    "* Bundle data capture in Python functions and modularize extraction code\n",
    "* Loop through a list of URLs to capture data in bulk, using functions\n",
    "* Understand the difference between Jupyter Notebooks and “raw” Python files, and run collection via the command line/terminal\n",
    "\n",
    "--- \n",
    "\n",
    "## Acknowledgements\n",
    "This tutorial has been inspired by various open-access online resources, which we list for further reference at the [course website](https://odcm.hannesdatta.com/docs/about). \n",
    "\n",
    "--- \n",
    "\n",
    "## Support Needed?\n",
    "For technical issues outside of scheduled classes, please check the [support section](https://odcm.hannesdatta.com/docs/course/support) on the course website."
   ]
  },
  {
   "cell_type": "markdown",
   "metadata": {},
   "source": [
    "---\n",
    "\n",
    "## 1. Seed Generation\n",
    "\n",
    "\n",
    "### 1.1 Collecting Links\n"
   ]
  },
  {
   "cell_type": "markdown",
   "metadata": {},
   "source": [
    "__Importance__\n",
    "\n",
    "In web scraping, we typically refer to a \"seed\" as a starting point for a data collection. Without a seed, there's no data to collect.\n",
    "\n",
    "For example, before we can crawl through all books available on [this site](https://books.toscrape.com/catalogue/category/books_1/index.html), we first need to generate a *list of all books on the page*.\n",
    "\n",
    "One way to get there would be to:\n",
    "\n",
    "1. first scrape all book links (“seeds”) from the overview page, and \n",
    "2. then iterate over all links to scrape the product description (or anything else on that page). \n",
    "\n",
    "Note that the overview page allows us to \"navigate\" to the individual book pages, either by clicking on the book cover or the book title (see red boxes in the figure below). \n",
    "\n",
    "<img src=\"images/books_links.png\" align=\"left\" width=80%/>"
   ]
  },
  {
   "cell_type": "markdown",
   "metadata": {},
   "source": [
    "__Let's try it out__\n",
    "\n",
    "Let's now check out how the links from the book covers or book titles are encoded in the website's source code.\n",
    "\n",
    "Open the [book catalogue](https://books.toscrape.com/catalogue/category/books_1/index.html), and inspect the underlying HTML code with the Chrome Inspector (right click --> inspect element). \n",
    "\n",
    "The book covers (`<img>`) are surrounded by `<a>` tags, which contain a link (`href`) to the book. \n",
    "\n",
    "Also, the book titles (`<h3>`) are surrounded by `<a>` tags with the relevant links to the book pages.\n",
    "\n",
    "<img src=\"images/inspector_links.png\" align=\"left\" width=80%/>\n",
    "\n",
    "How could we tell a computer to capture the links to the various books on the site?\n",
    "\n",
    "One simple way is to select *elements by their tags*. For example, to extract all links (`<a>` tags). "
   ]
  },
  {
   "cell_type": "markdown",
   "metadata": {},
   "source": [
    "__Exercise 1__\n",
    "\n",
    "Please run the code cell below, which extracts all links (the `a` tag!), and prints the URL (`href`) to the screen. \n",
    "\n",
    "If you look at these links more closely, you'll notive that we're not interested in many of these links... \n",
    "\n",
    "Make a list of all links we're *not* interested in (i.e., those *not* pointing to a book page). Which ones are those? Can you find out why they are there?"
   ]
  },
  {
   "cell_type": "code",
   "execution_count": null,
   "metadata": {},
   "outputs": [],
   "source": [
    "# Run this code now\n",
    "import requests\n",
    "from bs4 import BeautifulSoup\n",
    "\n",
    "# make a get request to the books overview page (see Webdata for Dummies tutorial)\n",
    "url = 'https://books.toscrape.com/catalogue/category/books_1/index.html'\n",
    "res = requests.get(url)\n",
    "soup = BeautifulSoup(res.text, \"html.parser\")\n",
    "\n",
    "# return the href attribute in the <a> tag nested within the first product class element\n",
    "for link in soup.find_all(\"a\"): print(link.attrs[\"href\"])"
   ]
  },
  {
   "cell_type": "markdown",
   "metadata": {},
   "source": [
    "__Solution__\n",
    "\n",
    "The links we want to ignore are...\n",
    "\n",
    "* \"Books to Scrape\" link at the top\n",
    "* \"Home\" breadcrumb link \n",
    "* Left sidebar with all book genres (e.g., Travel)\n",
    "* The next button at the bottom\n",
    "\n",
    "These links are present on the page, because they are used by users to navigate on the page. This can also be seen on the animation:\n",
    "\n",
    "<img src=\"images/books_overview.gif\" align=\"left\" width=50%/>"
   ]
  },
  {
   "cell_type": "markdown",
   "metadata": {},
   "source": [
    "### 1.2 Collecting *More Specific* Links\n",
    "\n",
    "__Importance__\n",
    "\n",
    "We've just discovered that selecting elements by their tags gives us many irrelevant links. But, how can we narrow down these links, or, in other words, __how can we scrape only the book links we're interested in?__.\n",
    "\n",
    "To answer this question, we need to briefly revisit the notion of __HTML classes__. \n",
    "\n",
    "A __class__ is often used as a reference in the code. For example, to make all text elements with a given class blue or increase the font size. In the Google Inspector screenshot shown earlier, you find an `<article>` tag with class `product_pod` in which a `<div>` is nested which contains the image and link attribute we're after. \n",
    "\n",
    "Every link to a book is *nested within this class* (nested = \"part of\"). The \"wrong links\" extracted above (i.e., the ones in the page's header and sidebar) are *not*. \n",
    "\n",
    "Thus, if we can tell our scraper that we're only interested in the `<a>` tags *within the `product_pod` class*, we end up with our desired selection of links."
   ]
  },
  {
   "cell_type": "markdown",
   "metadata": {},
   "source": [
    "__Let's try it out__\n",
    "\n",
    "Like before, we'll use `.find_all()` to capture all matching elements on the page. The difference, however, is that we specify __a class (`class_=`)__, rather than an HTML tag. From the inspector, we know the class name (`product_pod`). \n",
    "\n",
    "This result is a list with __all 20 `product_pod` classes__ on the page (i.e., one for each book). \n",
    "\n",
    "Run the code below, in which we pick the __first book__ from the list (A Light in the Attic, element `[0]`), and extract the `<a>` tag nested within the `product_pod` class. \n",
    "\n",
    "Finally, we pull out the `href` attribute from the `<a>` tag which gives us the book link."
   ]
  },
  {
   "cell_type": "code",
   "execution_count": 27,
   "metadata": {},
   "outputs": [
    {
     "data": {
      "text/plain": [
       "'../../a-light-in-the-attic_1000/index.html'"
      ]
     },
     "execution_count": 27,
     "metadata": {},
     "output_type": "execute_result"
    }
   ],
   "source": [
    "import requests\n",
    "from bs4 import BeautifulSoup\n",
    "\n",
    "# make a get request to the books overview page (see Webdata for Dummies tutorial)\n",
    "url = 'https://books.toscrape.com/catalogue/category/books_1/index.html'\n",
    "res = requests.get(url)\n",
    "soup = BeautifulSoup(res.text, \"html.parser\")\n",
    "\n",
    "# return the href attribute in the <a> tag nested within the first product class element\n",
    "soup.find_all(class_=\"product_pod\")[0].find(\"a\").attrs[\"href\"]"
   ]
  },
  {
   "cell_type": "markdown",
   "metadata": {},
   "source": [
    "Note the `../../` in front of the link which tells the browser: this tells the browser to go back two directories from the current URL:\n",
    "* Current URL: https://books.toscrape.com/catalogue/category/books_1/index.html\n",
    "* 1 step back: https://books.toscrape.com/catalogue/category/books_1\n",
    "* 2 steps back: https://books.toscrape.com/catalogue/category/\n",
    "\n",
    "Thereafter, it appends `a-light-in-the-attic_1000/index.html` to the URL which forms the full link to the [A Light in the Attic](https://books.toscrape.com/catalogue/a-light-in-the-attic_1000/index.html) book. \n",
    "\n",
    "Pretty cool, right?"
   ]
  },
  {
   "cell_type": "markdown",
   "metadata": {},
   "source": [
    "#### Exercise 2\n",
    "1. Modify the script to extract the link from the *second book* (Tipping the Velvet), using BeautifulSoup.\n",
    "2. Create a new variable `book_url` that concatenates the base URL (` https://books.toscrape.com/catalogue/`) and the string you extracted in the previous exercise 1.2 (`../../a-light-....`). Use *slicing* to remove the `../../` part inbetween. The final output should be: `https://books.toscrape.com/catalogue/tipping-the-velvet_999/index.html` \n",
    "3. The `replace` functions offers a more convenient way to \"search and replace\" in a string. The syntax is: `my_string = old_string.replace('text-to-replace', 'replace-by-text')`. Implement the `replace` function for the previous exercise 2.2."
   ]
  },
  {
   "cell_type": "markdown",
   "metadata": {},
   "source": [
    "#### Solutions"
   ]
  },
  {
   "cell_type": "code",
   "execution_count": 31,
   "metadata": {},
   "outputs": [
    {
     "name": "stdout",
     "output_type": "stream",
     "text": [
      "../../tipping-the-velvet_999/index.html\n"
     ]
    }
   ],
   "source": [
    "# Question 1\n",
    "url_book = soup.find_all(class_=\"product_pod\")[1].find(\"a\").attrs[\"href\"]\n",
    "print(url_book)"
   ]
  },
  {
   "cell_type": "code",
   "execution_count": 32,
   "metadata": {},
   "outputs": [
    {
     "name": "stdout",
     "output_type": "stream",
     "text": [
      "https://books.toscrape.com/catalogue/tipping-the-velvet_999/index.html\n"
     ]
    }
   ],
   "source": [
    "# Question 2 \n",
    "base_url = \"https://books.toscrape.com/catalogue/\"\n",
    "book_url = base_url + url_book[6:]\n",
    "print(book_url)"
   ]
  },
  {
   "cell_type": "code",
   "execution_count": 30,
   "metadata": {},
   "outputs": [
    {
     "name": "stdout",
     "output_type": "stream",
     "text": [
      "https://books.toscrape.com/catalogue/tipping-the-velvet_999/index.html\n"
     ]
    }
   ],
   "source": [
    "# Question 3\n",
    "base_url = \"https://books.toscrape.com/catalogue/\"\n",
    "book_url = base_url + url_book\n",
    "book_url = book_url.replace('../', '')\n",
    "print(book_url)"
   ]
  },
  {
   "cell_type": "markdown",
   "metadata": {},
   "source": [
    "### 1.3 Iterating over items"
   ]
  },
  {
   "cell_type": "markdown",
   "metadata": {},
   "source": [
    "__Importance__\n",
    "\n",
    "Ideally, we'd like our code to extract the URL from *every* book on the page, not just *one* product.\n",
    "\n",
    "In other words, we need a way to *iterate*/*loop* through the entire page to assemble a list of links (product pages) to scrape.\n",
    "\n",
    "__Let's try it out__\n",
    "\n",
    "Let's set up this exercise.\n",
    "\n",
    "1. We have a BeautifulSoup object, holding all of the book previews (`soup.find_all(class_=\"product_pod\")`)\n",
    "2. We have an empty array of `book_urls`, that we would like to fill\n",
    "3. We write a loop, which iterates through 1. and fills in 2.\n",
    "\n",
    "Run the code below!"
   ]
  },
  {
   "cell_type": "code",
   "execution_count": 35,
   "metadata": {},
   "outputs": [
    {
     "name": "stdout",
     "output_type": "stream",
     "text": [
      "['../../a-light-in-the-attic_1000/index.html', '../../tipping-the-velvet_999/index.html', '../../soumission_998/index.html', '../../sharp-objects_997/index.html', '../../sapiens-a-brief-history-of-humankind_996/index.html']\n"
     ]
    }
   ],
   "source": [
    "# list of all books on the overview page\n",
    "books = soup.find_all(class_=\"product_pod\")\n",
    "book_urls = []\n",
    "\n",
    "for book in books: \n",
    "    book_url = book.find(\"a\").attrs[\"href\"]\n",
    "    book_urls.append(book_url)\n",
    "    \n",
    "# print the first five urls\n",
    "print(book_urls[0:5])"
   ]
  },
  {
   "cell_type": "markdown",
   "metadata": {},
   "source": [
    "In practice, it may be more convenient to create a *dictionary* in which the `book_title` is the key and the `book_url` the value. This way it is more intuitive to look up the URL from a given book because you don't have to remember the exact position in the list but can simply pass it the title of the book. \n",
    "\n",
    "In the Google Inspector screenshot at the beginning of this section, you can see that the book title is stored in the `alt` attribute of the `<img>` tag (as well as in the `title` attribute from the second `<a>` tag). Using a similar approach as above, we collect the `book_title` and `book_url` of each book, and use these records to update `book_list`."
   ]
  },
  {
   "cell_type": "code",
   "execution_count": 95,
   "metadata": {},
   "outputs": [],
   "source": [
    "book_list = []\n",
    "\n",
    "for book in books: \n",
    "    book_title = book.find(\"img\").attrs[\"alt\"] \n",
    "    book_url = book.find(\"a\").attrs[\"href\"]\n",
    "    book_list.append({'title': book_title,\n",
    "                      'url': book_url})"
   ]
  },
  {
   "cell_type": "markdown",
   "metadata": {},
   "source": [
    "As a result, we can simply pass the book title (mind the capitals!) to the following code snippet to obtain the corresponding URL."
   ]
  },
  {
   "cell_type": "code",
   "execution_count": 92,
   "metadata": {
    "scrolled": true
   },
   "outputs": [
    {
     "data": {
      "text/plain": [
       "{'title': 'A Light in the Attic',\n",
       " 'url': '../../a-light-in-the-attic_1000/index.html'}"
      ]
     },
     "execution_count": 92,
     "metadata": {},
     "output_type": "execute_result"
    }
   ],
   "source": [
    "next((book for book in book_list if book[\"title\"] == \"A Light in the Attic\"), None)"
   ]
  },
  {
   "cell_type": "markdown",
   "metadata": {},
   "source": [
    "#### Exercise 3\n",
    "1. Like exercise 2.2, write code that transforms the relative URLs (`../..`) in `book_list` into full URLs, stored in `full_url`. Tip: you can use `for id, book in enumerate(book_list):` to iterate over the dictionaries and update URLs accordingly. \n",
    "2. One of the books on `books.toscrape.com` is [Black Dust](https://books.toscrape.com/catalogue/black-dust_976/index.html). What happens once you search for it using the code snippet above? Why is that? "
   ]
  },
  {
   "cell_type": "markdown",
   "metadata": {},
   "source": [
    "#### Solutions"
   ]
  },
  {
   "cell_type": "code",
   "execution_count": 99,
   "metadata": {},
   "outputs": [
    {
     "data": {
      "text/plain": [
       "[{'title': 'A Light in the Attic',\n",
       "  'url': '../../a-light-in-the-attic_1000/index.html',\n",
       "  'full_url': 'https://books.toscrape.com/catalogue/category/books_1/a-light-in-the-attic_1000/index.html'},\n",
       " {'title': 'Tipping the Velvet',\n",
       "  'url': '../../tipping-the-velvet_999/index.html',\n",
       "  'full_url': 'https://books.toscrape.com/catalogue/category/books_1/tipping-the-velvet_999/index.html'},\n",
       " {'title': 'Soumission',\n",
       "  'url': '../../soumission_998/index.html',\n",
       "  'full_url': 'https://books.toscrape.com/catalogue/category/books_1/soumission_998/index.html'},\n",
       " {'title': 'Sharp Objects',\n",
       "  'url': '../../sharp-objects_997/index.html',\n",
       "  'full_url': 'https://books.toscrape.com/catalogue/category/books_1/sharp-objects_997/index.html'},\n",
       " {'title': 'Sapiens: A Brief History of Humankind',\n",
       "  'url': '../../sapiens-a-brief-history-of-humankind_996/index.html',\n",
       "  'full_url': 'https://books.toscrape.com/catalogue/category/books_1/sapiens-a-brief-history-of-humankind_996/index.html'}]"
      ]
     },
     "execution_count": 99,
     "metadata": {},
     "output_type": "execute_result"
    }
   ],
   "source": [
    "# Question 1\n",
    "for id, book in enumerate(book_list):\n",
    "   book[\"full_url\"] = (base_url + book[\"url\"]).replace('../','')\n",
    "\n",
    "# show the first five elements\n",
    "book_list[0:5]"
   ]
  },
  {
   "cell_type": "code",
   "execution_count": 101,
   "metadata": {
    "scrolled": true
   },
   "outputs": [],
   "source": [
    "# Question 2 \n",
    "next((book for book in book_list if book[\"title\"] == \"Black Dust\"), None)\n",
    "\n",
    "# it does not return any result because the book does not exist (this book is on shown on the 2nd page and we only scraped the first one!)"
   ]
  },
  {
   "cell_type": "markdown",
   "metadata": {},
   "source": [
    "### 1.4 Page Navigation\n",
    "\n",
    "__Importance__\n",
    "\n",
    "Alright - what have we learnt up this point?\n",
    "\n",
    "- Section 1.1 taught us how to extract links from a page, \n",
    "- Section 1.2 taught us how to extract *more specific links* from a page, and finally\n",
    "- Section 1.3 taught us how to assemble a list of *links* to *all* books listed on a specific page.\n",
    "\n",
    "So... what's missing?\n",
    "\n",
    "Exactly! The [`books.toscrape.com`](https://books.toscrape.com/catalogue/category/books_1/index.html) contains __1000 books__, spread across __50 pages__. \n",
    "\n",
    "So, the goal of this section is to navigate through the __entire book assortment__, not only the first 20 books.\n",
    "\n"
   ]
  },
  {
   "cell_type": "markdown",
   "metadata": {},
   "source": [
    "__Let's try it out__\n",
    "\n",
    "Open [the website](https://books.toscrape.com/catalogue/category/books_1/index.html), and click on the \"next\" button at the bottom of the page.\n",
    "\n",
    "<img src=\"images/books.png\" align=\"left\" width=60%/>\n",
    "\n"
   ]
  },
  {
   "cell_type": "markdown",
   "metadata": {},
   "source": [
    "\n",
    "Repeat this a couple of times, and observe how the URL in your navigation bar is changing...\n",
    "\n",
    "- `https://books.toscrape.com/catalogue/category/books_1/page-1.html`\n",
    "- `https://books.toscrape.com/catalogue/category/books_1/page-2.html`\n",
    "- `https://books.toscrape.com/catalogue/category/books_1/page-3.html`\n",
    "\n",
    "Can you guess the next one...?\n",
    "\n",
    "Indeed! The URL can be divided into a __fixed base part__ (`https://books.toscrape.com/catalogue/category/books_1/`), and a __counter__ that is dependent on the page you're visiting (e.g., `page-1.html`). \n",
    "\n",
    "__Now let's create a list of all 50 URLs!__ \n",
    "\n",
    "First, we create a counter variable, which we now set to 1 (but it can take on any value later on). Then, we concatenate the `base_url` with the counter (note that we have to convert the integer counter to a string before we can do that, using the `str` function)."
   ]
  },
  {
   "cell_type": "code",
   "execution_count": 44,
   "metadata": {},
   "outputs": [
    {
     "name": "stdout",
     "output_type": "stream",
     "text": [
      "https://books.toscrape.com/catalogue/page-1.html\n"
     ]
    }
   ],
   "source": [
    "counter = 1\n",
    "full_url = base_url + \"page-\" + str(counter) + \".html\" \n",
    "print(full_url)"
   ]
  },
  {
   "cell_type": "markdown",
   "metadata": {},
   "source": [
    "In a similar fashion, we generate a list of 50 `page_urls` with a for loop that starts at 1 and ends at 50 (not 51!). "
   ]
  },
  {
   "cell_type": "code",
   "execution_count": 102,
   "metadata": {},
   "outputs": [],
   "source": [
    "base_url = \"https://books.toscrape.com/catalogue/category/books_1/\"\n",
    "page_urls = []\n",
    "\n",
    "for counter in range(1, 51):\n",
    "    full_url = base_url + \"page-\" + str(counter) + \".html\" \n",
    "    page_urls.append(full_url)"
   ]
  },
  {
   "cell_type": "markdown",
   "metadata": {},
   "source": [
    "As expected, this gives a list of all page URLs that contain books. "
   ]
  },
  {
   "cell_type": "code",
   "execution_count": 103,
   "metadata": {},
   "outputs": [
    {
     "name": "stdout",
     "output_type": "stream",
     "text": [
      "The number of page urls in the list is: 50\n"
     ]
    }
   ],
   "source": [
    "# print the last five page urls\n",
    "print(\"The number of page urls in the list is: \" + str(len(page_urls)))"
   ]
  },
  {
   "cell_type": "markdown",
   "metadata": {},
   "source": [
    "#### Exercise 4\n",
    "In this exercise, we practice generating a seed for another website, [`quotes.toscrape.com`](https://quotes.toscrape.com/), which displays 100 famous quotes from GoodReads, categorized by tag. \n",
    "\n",
    "<img src=\"images/quotes.png\" align=\"left\" width=60% style=\"border: 1px solid black\" />"
   ]
  },
  {
   "cell_type": "markdown",
   "metadata": {},
   "source": [
    "1. Make yourself comfortable with how the [site](https://quotes.toscrape.com) works and ask yourself questions such as: how does the navigation work, how many pages are there, what is the base URL, and how does it change if I move to the next page?\n",
    "2. Generate a list `quote_page_urls` that contains the page URLs we need if we'd like to scrape all 100 quotes."
   ]
  },
  {
   "cell_type": "markdown",
   "metadata": {},
   "source": [
    "#### Solutions\n",
    "1. The 100 quotes are evenly spread across 10 pages. The base URL is `https://quotes.toscrape.com/page/` followed by a page number between 1 and 10."
   ]
  },
  {
   "cell_type": "code",
   "execution_count": 104,
   "metadata": {},
   "outputs": [
    {
     "name": "stdout",
     "output_type": "stream",
     "text": [
      "['https://quotes.toscrape.com/page/1', 'https://quotes.toscrape.com/page/2', 'https://quotes.toscrape.com/page/3', 'https://quotes.toscrape.com/page/4', 'https://quotes.toscrape.com/page/5', 'https://quotes.toscrape.com/page/6', 'https://quotes.toscrape.com/page/7', 'https://quotes.toscrape.com/page/8', 'https://quotes.toscrape.com/page/9', 'https://quotes.toscrape.com/page/10']\n"
     ]
    }
   ],
   "source": [
    "# Question 2\n",
    "base_url = \"https://quotes.toscrape.com/page/\"\n",
    "quote_page_urls = []\n",
    "\n",
    "for counter in range(1, 11):\n",
    "    full_url = base_url + str(counter)\n",
    "    quote_page_urls.append(full_url)\n",
    "\n",
    "print(quote_page_urls)"
   ]
  },
  {
   "cell_type": "markdown",
   "metadata": {},
   "source": [
    "### 1.4 Wrap-Up\n",
    "In summary, we have defined our seed and thought about a data extraction strategy to obtain the book links on a page. Since there are multiple pages, we needed to generate a list of URLs as an input for our scraper, which we'll further refine in the next chapter.  \n",
    "\n",
    "--- "
   ]
  },
  {
   "cell_type": "markdown",
   "metadata": {},
   "source": [
    "## 2. Data Extraction\n",
    "\n",
    "\n",
    "### 2.1 Timers\n",
    "\n",
    "__Importance__\n",
    "\n",
    "Before we start running the scraper, we need to realize that sending many requests at the same time can overload a server. Therefore, it's highly recommended to pause between requests rather than sending them all simultaneously. This avoids that your IP address (i.e., numerical label assigned to each device connected to the internet) gets blocked, and you can no longer visit (and scrape) the website. \n",
    "\n",
    "__Let's try it out__\n",
    "\n",
    "In Python, you can import the `sleep` module, which pauses the execution of future commands for a given amount of time. For example, the print statement after `sleep(5)` will only be executed after 5 seconds:\n"
   ]
  },
  {
   "cell_type": "code",
   "execution_count": 48,
   "metadata": {},
   "outputs": [
    {
     "name": "stdout",
     "output_type": "stream",
     "text": [
      "I'll be printed to the console after 5 seconds!\n"
     ]
    }
   ],
   "source": [
    "# run this cell again to see the timer in action yourself!\n",
    "from time import sleep\n",
    "sleep(5)\n",
    "print(\"I'll be printed to the console after 5 seconds!\")"
   ]
  },
  {
   "cell_type": "markdown",
   "metadata": {},
   "source": [
    "__Exercise 5__\n",
    "\n",
    "Modify the code above to sleep for 2 minutes. Go grab a coffee inbetween. Did it take you longer than 2 minutes?\n",
    "\n",
    "(if you want to abort the running code, just select the cell and push the \"stop\" button)"
   ]
  },
  {
   "cell_type": "code",
   "execution_count": 54,
   "metadata": {},
   "outputs": [
    {
     "ename": "KeyboardInterrupt",
     "evalue": "",
     "output_type": "error",
     "traceback": [
      "\u001b[0;31m---------------------------------------------------------------------------\u001b[0m",
      "\u001b[0;31mKeyboardInterrupt\u001b[0m                         Traceback (most recent call last)",
      "\u001b[0;32m<ipython-input-54-937cb1867b1c>\u001b[0m in \u001b[0;36m<module>\u001b[0;34m\u001b[0m\n\u001b[1;32m      1\u001b[0m \u001b[0;31m# Solution\u001b[0m\u001b[0;34m\u001b[0m\u001b[0;34m\u001b[0m\u001b[0;34m\u001b[0m\u001b[0m\n\u001b[0;32m----> 2\u001b[0;31m \u001b[0msleep\u001b[0m\u001b[0;34m(\u001b[0m\u001b[0;36m2\u001b[0m\u001b[0;34m*\u001b[0m\u001b[0;36m60\u001b[0m\u001b[0;34m)\u001b[0m\u001b[0;34m\u001b[0m\u001b[0;34m\u001b[0m\u001b[0m\n\u001b[0m\u001b[1;32m      3\u001b[0m \u001b[0mprint\u001b[0m\u001b[0;34m(\u001b[0m\u001b[0;34m\"Done!\"\u001b[0m\u001b[0;34m)\u001b[0m\u001b[0;34m\u001b[0m\u001b[0;34m\u001b[0m\u001b[0m\n",
      "\u001b[0;31mKeyboardInterrupt\u001b[0m: "
     ]
    }
   ],
   "source": [
    "# Solution\n",
    "sleep(2*60)\n",
    "print(\"Done!\")"
   ]
  },
  {
   "cell_type": "markdown",
   "metadata": {},
   "source": [
    "### 2.2 Modularization\n",
    "\n",
    "**Importance**  \n",
    "\n",
    "In scraping, many things have to be executed *multiple times*. For example, whenever we open a new page with books, we would like to extract all the available book links.\n",
    "\n",
    "To help us execute things over and over again, we will \"modularize\" our code into functions. We can then call these functions whenever we need them. Another benefit from using functions is that we can improve the readability and reusability of our code.\n",
    "\n",
    "**Let's try it out**\n",
    "\n",
    "Let's finish up our book URL scraper by putting together everything we have learned thus far.\n",
    "\n",
    "First, we define a function `generate_page_urls()` that takes a base URL and an upper limit of the number of pages (50) as input parameters. This way, we can easily update our scraper if more books are added or if the base URL changes. "
   ]
  },
  {
   "cell_type": "code",
   "execution_count": 69,
   "metadata": {},
   "outputs": [],
   "source": [
    "def generate_page_urls(base_url, num_pages):\n",
    "    '''generate a list of full page urls from a base url and counter that has takes on the values between 1 and num_pages'''\n",
    "    page_urls = []\n",
    "    \n",
    "    for counter in range(1, num_pages + 1):\n",
    "        full_url = base_url + \"page-\" + str(counter) + \".html\"\n",
    "        page_urls.append(full_url)\n",
    "        \n",
    "    return page_urls"
   ]
  },
  {
   "cell_type": "markdown",
   "metadata": {},
   "source": [
    "Try running the function and modifying its parameters (e.g., set the number of book pages to 10)."
   ]
  },
  {
   "cell_type": "code",
   "execution_count": 70,
   "metadata": {},
   "outputs": [
    {
     "data": {
      "text/plain": [
       "['https://books.toscrape.com/catalogue/category/books_1/page-1.html',\n",
       " 'https://books.toscrape.com/catalogue/category/books_1/page-2.html',\n",
       " 'https://books.toscrape.com/catalogue/category/books_1/page-3.html',\n",
       " 'https://books.toscrape.com/catalogue/category/books_1/page-4.html',\n",
       " 'https://books.toscrape.com/catalogue/category/books_1/page-5.html']"
      ]
     },
     "execution_count": 70,
     "metadata": {},
     "output_type": "execute_result"
    }
   ],
   "source": [
    "generate_page_urls(\"https://books.toscrape.com/catalogue/category/books_1/\", 5)\n"
   ]
  },
  {
   "cell_type": "markdown",
   "metadata": {},
   "source": [
    "Second, let's define an `extract_book_urls()` function, which takes a list of page URLs as input and returns a list of dictionaries with book titles and URLs. Note the two-step structure of the for-loops: on every page, we create a `books` object which we subsequently loop over by extracting the `book_title` and `book_url` from each book. These records are added to the list `book_list` which is eventually returned by the function."
   ]
  },
  {
   "cell_type": "code",
   "execution_count": 307,
   "metadata": {},
   "outputs": [],
   "source": [
    "def extract_book_urls(page_urls):\n",
    "    '''collect the book title and url for every book on all page urls'''\n",
    "    book_list = []\n",
    "    \n",
    "    for page_url in page_urls: \n",
    "        res = requests.get(page_url)\n",
    "        soup = BeautifulSoup(res.text, \"html.parser\")\n",
    "        books = soup.find_all(class_=\"product_pod\")\n",
    "\n",
    "        for book in books: \n",
    "            book_title = book.find(\"img\").attrs[\"alt\"] \n",
    "            book_url = \"https://books.toscrape.com/catalogue/\" + book.find(\"a\").attrs[\"href\"].replace('../','')\n",
    "            book_list.append({\"title\": book_title,\n",
    "                             \"url\": book_url})\n",
    "            \n",
    "        sleep(1)  # pause 1 second after each request\n",
    "            \n",
    "    return book_list"
   ]
  },
  {
   "cell_type": "markdown",
   "metadata": {},
   "source": [
    "So, let's try out this function. Be aware that running it takes some time."
   ]
  },
  {
   "cell_type": "code",
   "execution_count": 308,
   "metadata": {},
   "outputs": [],
   "source": [
    "base_url = \"https://books.toscrape.com/catalogue/category/books_1/\"\n",
    "page_urls = generate_page_urls(base_url, 2) # to save time and resources we only scrape the first 2 pages\n",
    "book_list = extract_book_urls(page_urls)"
   ]
  },
  {
   "cell_type": "code",
   "execution_count": 309,
   "metadata": {},
   "outputs": [
    {
     "data": {
      "text/plain": [
       "[{'title': 'A Light in the Attic',\n",
       "  'url': 'https://books.toscrape.com/catalogue/a-light-in-the-attic_1000/index.html'},\n",
       " {'title': 'Tipping the Velvet',\n",
       "  'url': 'https://books.toscrape.com/catalogue/tipping-the-velvet_999/index.html'},\n",
       " {'title': 'Soumission',\n",
       "  'url': 'https://books.toscrape.com/catalogue/soumission_998/index.html'},\n",
       " {'title': 'Sharp Objects',\n",
       "  'url': 'https://books.toscrape.com/catalogue/sharp-objects_997/index.html'},\n",
       " {'title': 'Sapiens: A Brief History of Humankind',\n",
       "  'url': 'https://books.toscrape.com/catalogue/sapiens-a-brief-history-of-humankind_996/index.html'}]"
      ]
     },
     "execution_count": 309,
     "metadata": {},
     "output_type": "execute_result"
    }
   ],
   "source": [
    "# Preview the results\n",
    "book_list[0:5]"
   ]
  },
  {
   "cell_type": "markdown",
   "metadata": {},
   "source": [
    "__Exercise 6__\n",
    "\n",
    "1. Please obtain a list of URLs for products stored on the first *five* pages. \n",
    "2. Please extend the `extract_books_url` function to also obtain information on whether the book is in stock. Make use of this code snippet to search for the particular class: `book.find(\"p\", class_=\"class-name-to-search-for\")`\n",
    "3. Please clean the text snippet obtained in 2 by removing (a) the unnecessary line breaks (`\\n`), and spaces (`\" \"`), using Python's `replace` function.\n",
    "\n",
    "__Solutions__"
   ]
  },
  {
   "cell_type": "code",
   "execution_count": 136,
   "metadata": {},
   "outputs": [
    {
     "data": {
      "text/plain": [
       "[{'title': 'A Light in the Attic',\n",
       "  'url': 'https://books.toscrape.com/catalogue/a-light-in-the-attic_1000/index.html',\n",
       "  'instock': 'Instock'},\n",
       " {'title': 'Tipping the Velvet',\n",
       "  'url': 'https://books.toscrape.com/catalogue/tipping-the-velvet_999/index.html',\n",
       "  'instock': 'Instock'},\n",
       " {'title': 'Soumission',\n",
       "  'url': 'https://books.toscrape.com/catalogue/soumission_998/index.html',\n",
       "  'instock': 'Instock'},\n",
       " {'title': 'Sharp Objects',\n",
       "  'url': 'https://books.toscrape.com/catalogue/sharp-objects_997/index.html',\n",
       "  'instock': 'Instock'},\n",
       " {'title': 'Sapiens: A Brief History of Humankind',\n",
       "  'url': 'https://books.toscrape.com/catalogue/sapiens-a-brief-history-of-humankind_996/index.html',\n",
       "  'instock': 'Instock'},\n",
       " {'title': 'The Requiem Red',\n",
       "  'url': 'https://books.toscrape.com/catalogue/the-requiem-red_995/index.html',\n",
       "  'instock': 'Instock'},\n",
       " {'title': 'The Dirty Little Secrets of Getting Your Dream Job',\n",
       "  'url': 'https://books.toscrape.com/catalogue/the-dirty-little-secrets-of-getting-your-dream-job_994/index.html',\n",
       "  'instock': 'Instock'},\n",
       " {'title': 'The Coming Woman: A Novel Based on the Life of the Infamous Feminist, Victoria Woodhull',\n",
       "  'url': 'https://books.toscrape.com/catalogue/the-coming-woman-a-novel-based-on-the-life-of-the-infamous-feminist-victoria-woodhull_993/index.html',\n",
       "  'instock': 'Instock'},\n",
       " {'title': 'The Boys in the Boat: Nine Americans and Their Epic Quest for Gold at the 1936 Berlin Olympics',\n",
       "  'url': 'https://books.toscrape.com/catalogue/the-boys-in-the-boat-nine-americans-and-their-epic-quest-for-gold-at-the-1936-berlin-olympics_992/index.html',\n",
       "  'instock': 'Instock'},\n",
       " {'title': 'The Black Maria',\n",
       "  'url': 'https://books.toscrape.com/catalogue/the-black-maria_991/index.html',\n",
       "  'instock': 'Instock'},\n",
       " {'title': 'Starving Hearts (Triangular Trade Trilogy, #1)',\n",
       "  'url': 'https://books.toscrape.com/catalogue/starving-hearts-triangular-trade-trilogy-1_990/index.html',\n",
       "  'instock': 'Instock'},\n",
       " {'title': \"Shakespeare's Sonnets\",\n",
       "  'url': 'https://books.toscrape.com/catalogue/shakespeares-sonnets_989/index.html',\n",
       "  'instock': 'Instock'},\n",
       " {'title': 'Set Me Free',\n",
       "  'url': 'https://books.toscrape.com/catalogue/set-me-free_988/index.html',\n",
       "  'instock': 'Instock'},\n",
       " {'title': \"Scott Pilgrim's Precious Little Life (Scott Pilgrim #1)\",\n",
       "  'url': 'https://books.toscrape.com/catalogue/scott-pilgrims-precious-little-life-scott-pilgrim-1_987/index.html',\n",
       "  'instock': 'Instock'},\n",
       " {'title': 'Rip it Up and Start Again',\n",
       "  'url': 'https://books.toscrape.com/catalogue/rip-it-up-and-start-again_986/index.html',\n",
       "  'instock': 'Instock'},\n",
       " {'title': 'Our Band Could Be Your Life: Scenes from the American Indie Underground, 1981-1991',\n",
       "  'url': 'https://books.toscrape.com/catalogue/our-band-could-be-your-life-scenes-from-the-american-indie-underground-1981-1991_985/index.html',\n",
       "  'instock': 'Instock'},\n",
       " {'title': 'Olio',\n",
       "  'url': 'https://books.toscrape.com/catalogue/olio_984/index.html',\n",
       "  'instock': 'Instock'},\n",
       " {'title': 'Mesaerion: The Best Science Fiction Stories 1800-1849',\n",
       "  'url': 'https://books.toscrape.com/catalogue/mesaerion-the-best-science-fiction-stories-1800-1849_983/index.html',\n",
       "  'instock': 'Instock'},\n",
       " {'title': 'Libertarianism for Beginners',\n",
       "  'url': 'https://books.toscrape.com/catalogue/libertarianism-for-beginners_982/index.html',\n",
       "  'instock': 'Instock'},\n",
       " {'title': \"It's Only the Himalayas\",\n",
       "  'url': 'https://books.toscrape.com/catalogue/its-only-the-himalayas_981/index.html',\n",
       "  'instock': 'Instock'},\n",
       " {'title': 'In Her Wake',\n",
       "  'url': 'https://books.toscrape.com/catalogue/in-her-wake_980/index.html',\n",
       "  'instock': 'Instock'},\n",
       " {'title': 'How Music Works',\n",
       "  'url': 'https://books.toscrape.com/catalogue/how-music-works_979/index.html',\n",
       "  'instock': 'Instock'},\n",
       " {'title': 'Foolproof Preserving: A Guide to Small Batch Jams, Jellies, Pickles, Condiments, and More: A Foolproof Guide to Making Small Batch Jams, Jellies, Pickles, Condiments, and More',\n",
       "  'url': 'https://books.toscrape.com/catalogue/foolproof-preserving-a-guide-to-small-batch-jams-jellies-pickles-condiments-and-more-a-foolproof-guide-to-making-small-batch-jams-jellies-pickles-condiments-and-more_978/index.html',\n",
       "  'instock': 'Instock'},\n",
       " {'title': 'Chase Me (Paris Nights #2)',\n",
       "  'url': 'https://books.toscrape.com/catalogue/chase-me-paris-nights-2_977/index.html',\n",
       "  'instock': 'Instock'},\n",
       " {'title': 'Black Dust',\n",
       "  'url': 'https://books.toscrape.com/catalogue/black-dust_976/index.html',\n",
       "  'instock': 'Instock'},\n",
       " {'title': 'Birdsong: A Story in Pictures',\n",
       "  'url': 'https://books.toscrape.com/catalogue/birdsong-a-story-in-pictures_975/index.html',\n",
       "  'instock': 'Instock'},\n",
       " {'title': \"America's Cradle of Quarterbacks: Western Pennsylvania's Football Factory from Johnny Unitas to Joe Montana\",\n",
       "  'url': 'https://books.toscrape.com/catalogue/americas-cradle-of-quarterbacks-western-pennsylvanias-football-factory-from-johnny-unitas-to-joe-montana_974/index.html',\n",
       "  'instock': 'Instock'},\n",
       " {'title': 'Aladdin and His Wonderful Lamp',\n",
       "  'url': 'https://books.toscrape.com/catalogue/aladdin-and-his-wonderful-lamp_973/index.html',\n",
       "  'instock': 'Instock'},\n",
       " {'title': 'Worlds Elsewhere: Journeys Around Shakespeareâ\\x80\\x99s Globe',\n",
       "  'url': 'https://books.toscrape.com/catalogue/worlds-elsewhere-journeys-around-shakespeares-globe_972/index.html',\n",
       "  'instock': 'Instock'},\n",
       " {'title': 'Wall and Piece',\n",
       "  'url': 'https://books.toscrape.com/catalogue/wall-and-piece_971/index.html',\n",
       "  'instock': 'Instock'},\n",
       " {'title': 'The Four Agreements: A Practical Guide to Personal Freedom',\n",
       "  'url': 'https://books.toscrape.com/catalogue/the-four-agreements-a-practical-guide-to-personal-freedom_970/index.html',\n",
       "  'instock': 'Instock'},\n",
       " {'title': 'The Five Love Languages: How to Express Heartfelt Commitment to Your Mate',\n",
       "  'url': 'https://books.toscrape.com/catalogue/the-five-love-languages-how-to-express-heartfelt-commitment-to-your-mate_969/index.html',\n",
       "  'instock': 'Instock'},\n",
       " {'title': 'The Elephant Tree',\n",
       "  'url': 'https://books.toscrape.com/catalogue/the-elephant-tree_968/index.html',\n",
       "  'instock': 'Instock'},\n",
       " {'title': 'The Bear and the Piano',\n",
       "  'url': 'https://books.toscrape.com/catalogue/the-bear-and-the-piano_967/index.html',\n",
       "  'instock': 'Instock'},\n",
       " {'title': \"Sophie's World\",\n",
       "  'url': 'https://books.toscrape.com/catalogue/sophies-world_966/index.html',\n",
       "  'instock': 'Instock'},\n",
       " {'title': 'Penny Maybe',\n",
       "  'url': 'https://books.toscrape.com/catalogue/penny-maybe_965/index.html',\n",
       "  'instock': 'Instock'},\n",
       " {'title': 'Maude (1883-1993):She Grew Up with the country',\n",
       "  'url': 'https://books.toscrape.com/catalogue/maude-1883-1993she-grew-up-with-the-country_964/index.html',\n",
       "  'instock': 'Instock'},\n",
       " {'title': 'In a Dark, Dark Wood',\n",
       "  'url': 'https://books.toscrape.com/catalogue/in-a-dark-dark-wood_963/index.html',\n",
       "  'instock': 'Instock'},\n",
       " {'title': 'Behind Closed Doors',\n",
       "  'url': 'https://books.toscrape.com/catalogue/behind-closed-doors_962/index.html',\n",
       "  'instock': 'Instock'},\n",
       " {'title': \"You can't bury them all: Poems\",\n",
       "  'url': 'https://books.toscrape.com/catalogue/you-cant-bury-them-all-poems_961/index.html',\n",
       "  'instock': 'Instock'},\n",
       " {'title': 'Slow States of Collapse: Poems',\n",
       "  'url': 'https://books.toscrape.com/catalogue/slow-states-of-collapse-poems_960/index.html',\n",
       "  'instock': 'Instock'},\n",
       " {'title': 'Reasons to Stay Alive',\n",
       "  'url': 'https://books.toscrape.com/catalogue/reasons-to-stay-alive_959/index.html',\n",
       "  'instock': 'Instock'},\n",
       " {'title': 'Private Paris (Private #10)',\n",
       "  'url': 'https://books.toscrape.com/catalogue/private-paris-private-10_958/index.html',\n",
       "  'instock': 'Instock'},\n",
       " {'title': '#HigherSelfie: Wake Up Your Life. Free Your Soul. Find Your Tribe.',\n",
       "  'url': 'https://books.toscrape.com/catalogue/higherselfie-wake-up-your-life-free-your-soul-find-your-tribe_957/index.html',\n",
       "  'instock': 'Instock'},\n",
       " {'title': 'Without Borders (Wanderlove #1)',\n",
       "  'url': 'https://books.toscrape.com/catalogue/without-borders-wanderlove-1_956/index.html',\n",
       "  'instock': 'Instock'},\n",
       " {'title': 'When We Collided',\n",
       "  'url': 'https://books.toscrape.com/catalogue/when-we-collided_955/index.html',\n",
       "  'instock': 'Instock'},\n",
       " {'title': 'We Love You, Charlie Freeman',\n",
       "  'url': 'https://books.toscrape.com/catalogue/we-love-you-charlie-freeman_954/index.html',\n",
       "  'instock': 'Instock'},\n",
       " {'title': 'Untitled Collection: Sabbath Poems 2014',\n",
       "  'url': 'https://books.toscrape.com/catalogue/untitled-collection-sabbath-poems-2014_953/index.html',\n",
       "  'instock': 'Instock'},\n",
       " {'title': 'Unseen City: The Majesty of Pigeons, the Discreet Charm of Snails & Other Wonders of the Urban Wilderness',\n",
       "  'url': 'https://books.toscrape.com/catalogue/unseen-city-the-majesty-of-pigeons-the-discreet-charm-of-snails-other-wonders-of-the-urban-wilderness_952/index.html',\n",
       "  'instock': 'Instock'},\n",
       " {'title': 'Unicorn Tracks',\n",
       "  'url': 'https://books.toscrape.com/catalogue/unicorn-tracks_951/index.html',\n",
       "  'instock': 'Instock'},\n",
       " {'title': 'Unbound: How Eight Technologies Made Us Human, Transformed Society, and Brought Our World to the Brink',\n",
       "  'url': 'https://books.toscrape.com/catalogue/unbound-how-eight-technologies-made-us-human-transformed-society-and-brought-our-world-to-the-brink_950/index.html',\n",
       "  'instock': 'Instock'},\n",
       " {'title': 'Tsubasa: WoRLD CHRoNiCLE 2 (Tsubasa WoRLD CHRoNiCLE #2)',\n",
       "  'url': 'https://books.toscrape.com/catalogue/tsubasa-world-chronicle-2-tsubasa-world-chronicle-2_949/index.html',\n",
       "  'instock': 'Instock'},\n",
       " {'title': 'Throwing Rocks at the Google Bus: How Growth Became the Enemy of Prosperity',\n",
       "  'url': 'https://books.toscrape.com/catalogue/throwing-rocks-at-the-google-bus-how-growth-became-the-enemy-of-prosperity_948/index.html',\n",
       "  'instock': 'Instock'},\n",
       " {'title': 'This One Summer',\n",
       "  'url': 'https://books.toscrape.com/catalogue/this-one-summer_947/index.html',\n",
       "  'instock': 'Instock'},\n",
       " {'title': 'Thirst',\n",
       "  'url': 'https://books.toscrape.com/catalogue/thirst_946/index.html',\n",
       "  'instock': 'Instock'},\n",
       " {'title': 'The Torch Is Passed: A Harding Family Story',\n",
       "  'url': 'https://books.toscrape.com/catalogue/the-torch-is-passed-a-harding-family-story_945/index.html',\n",
       "  'instock': 'Instock'},\n",
       " {'title': 'The Secret of Dreadwillow Carse',\n",
       "  'url': 'https://books.toscrape.com/catalogue/the-secret-of-dreadwillow-carse_944/index.html',\n",
       "  'instock': 'Instock'},\n",
       " {'title': 'The Pioneer Woman Cooks: Dinnertime: Comfort Classics, Freezer Food, 16-Minute Meals, and Other Delicious Ways to Solve Supper!',\n",
       "  'url': 'https://books.toscrape.com/catalogue/the-pioneer-woman-cooks-dinnertime-comfort-classics-freezer-food-16-minute-meals-and-other-delicious-ways-to-solve-supper_943/index.html',\n",
       "  'instock': 'Instock'},\n",
       " {'title': 'The Past Never Ends',\n",
       "  'url': 'https://books.toscrape.com/catalogue/the-past-never-ends_942/index.html',\n",
       "  'instock': 'Instock'},\n",
       " {'title': 'The Natural History of Us (The Fine Art of Pretending #2)',\n",
       "  'url': 'https://books.toscrape.com/catalogue/the-natural-history-of-us-the-fine-art-of-pretending-2_941/index.html',\n",
       "  'instock': 'Instock'},\n",
       " {'title': 'The Nameless City (The Nameless City #1)',\n",
       "  'url': 'https://books.toscrape.com/catalogue/the-nameless-city-the-nameless-city-1_940/index.html',\n",
       "  'instock': 'Instock'},\n",
       " {'title': 'The Murder That Never Was (Forensic Instincts #5)',\n",
       "  'url': 'https://books.toscrape.com/catalogue/the-murder-that-never-was-forensic-instincts-5_939/index.html',\n",
       "  'instock': 'Instock'},\n",
       " {'title': \"The Most Perfect Thing: Inside (and Outside) a Bird's Egg\",\n",
       "  'url': 'https://books.toscrape.com/catalogue/the-most-perfect-thing-inside-and-outside-a-birds-egg_938/index.html',\n",
       "  'instock': 'Instock'},\n",
       " {'title': 'The Mindfulness and Acceptance Workbook for Anxiety: A Guide to Breaking Free from Anxiety, Phobias, and Worry Using Acceptance and Commitment Therapy',\n",
       "  'url': 'https://books.toscrape.com/catalogue/the-mindfulness-and-acceptance-workbook-for-anxiety-a-guide-to-breaking-free-from-anxiety-phobias-and-worry-using-acceptance-and-commitment-therapy_937/index.html',\n",
       "  'instock': 'Instock'},\n",
       " {'title': 'The Life-Changing Magic of Tidying Up: The Japanese Art of Decluttering and Organizing',\n",
       "  'url': 'https://books.toscrape.com/catalogue/the-life-changing-magic-of-tidying-up-the-japanese-art-of-decluttering-and-organizing_936/index.html',\n",
       "  'instock': 'Instock'},\n",
       " {'title': 'The Inefficiency Assassin: Time Management Tactics for Working Smarter, Not Longer',\n",
       "  'url': 'https://books.toscrape.com/catalogue/the-inefficiency-assassin-time-management-tactics-for-working-smarter-not-longer_935/index.html',\n",
       "  'instock': 'Instock'},\n",
       " {'title': 'The Gutsy Girl: Escapades for Your Life of Epic Adventure',\n",
       "  'url': 'https://books.toscrape.com/catalogue/the-gutsy-girl-escapades-for-your-life-of-epic-adventure_934/index.html',\n",
       "  'instock': 'Instock'},\n",
       " {'title': 'The Electric Pencil: Drawings from Inside State Hospital No. 3',\n",
       "  'url': 'https://books.toscrape.com/catalogue/the-electric-pencil-drawings-from-inside-state-hospital-no-3_933/index.html',\n",
       "  'instock': 'Instock'},\n",
       " {'title': 'The Death of Humanity: and the Case for Life',\n",
       "  'url': 'https://books.toscrape.com/catalogue/the-death-of-humanity-and-the-case-for-life_932/index.html',\n",
       "  'instock': 'Instock'},\n",
       " {'title': 'The Bulletproof Diet: Lose up to a Pound a Day, Reclaim Energy and Focus, Upgrade Your Life',\n",
       "  'url': 'https://books.toscrape.com/catalogue/the-bulletproof-diet-lose-up-to-a-pound-a-day-reclaim-energy-and-focus-upgrade-your-life_931/index.html',\n",
       "  'instock': 'Instock'},\n",
       " {'title': 'The Art Forger',\n",
       "  'url': 'https://books.toscrape.com/catalogue/the-art-forger_930/index.html',\n",
       "  'instock': 'Instock'},\n",
       " {'title': 'The Age of Genius: The Seventeenth Century and the Birth of the Modern Mind',\n",
       "  'url': 'https://books.toscrape.com/catalogue/the-age-of-genius-the-seventeenth-century-and-the-birth-of-the-modern-mind_929/index.html',\n",
       "  'instock': 'Instock'},\n",
       " {'title': \"The Activist's Tao Te Ching: Ancient Advice for a Modern Revolution\",\n",
       "  'url': 'https://books.toscrape.com/catalogue/the-activists-tao-te-ching-ancient-advice-for-a-modern-revolution_928/index.html',\n",
       "  'instock': 'Instock'},\n",
       " {'title': 'Spark Joy: An Illustrated Master Class on the Art of Organizing and Tidying Up',\n",
       "  'url': 'https://books.toscrape.com/catalogue/spark-joy-an-illustrated-master-class-on-the-art-of-organizing-and-tidying-up_927/index.html',\n",
       "  'instock': 'Instock'},\n",
       " {'title': 'Soul Reader',\n",
       "  'url': 'https://books.toscrape.com/catalogue/soul-reader_926/index.html',\n",
       "  'instock': 'Instock'},\n",
       " {'title': 'Security',\n",
       "  'url': 'https://books.toscrape.com/catalogue/security_925/index.html',\n",
       "  'instock': 'Instock'},\n",
       " {'title': 'Saga, Volume 6 (Saga (Collected Editions) #6)',\n",
       "  'url': 'https://books.toscrape.com/catalogue/saga-volume-6-saga-collected-editions-6_924/index.html',\n",
       "  'instock': 'Instock'},\n",
       " {'title': 'Saga, Volume 5 (Saga (Collected Editions) #5)',\n",
       "  'url': 'https://books.toscrape.com/catalogue/saga-volume-5-saga-collected-editions-5_923/index.html',\n",
       "  'instock': 'Instock'},\n",
       " {'title': 'Reskilling America: Learning to Labor in the Twenty-First Century',\n",
       "  'url': 'https://books.toscrape.com/catalogue/reskilling-america-learning-to-labor-in-the-twenty-first-century_922/index.html',\n",
       "  'instock': 'Instock'},\n",
       " {'title': 'Rat Queens, Vol. 3: Demons (Rat Queens (Collected Editions) #11-15)',\n",
       "  'url': 'https://books.toscrape.com/catalogue/rat-queens-vol-3-demons-rat-queens-collected-editions-11-15_921/index.html',\n",
       "  'instock': 'Instock'},\n",
       " {'title': 'Princess Jellyfish 2-in-1 Omnibus, Vol. 01 (Princess Jellyfish 2-in-1 Omnibus #1)',\n",
       "  'url': 'https://books.toscrape.com/catalogue/princess-jellyfish-2-in-1-omnibus-vol-01-princess-jellyfish-2-in-1-omnibus-1_920/index.html',\n",
       "  'instock': 'Instock'},\n",
       " {'title': 'Princess Between Worlds (Wide-Awake Princess #5)',\n",
       "  'url': 'https://books.toscrape.com/catalogue/princess-between-worlds-wide-awake-princess-5_919/index.html',\n",
       "  'instock': 'Instock'},\n",
       " {'title': 'Pop Gun War, Volume 1: Gift',\n",
       "  'url': 'https://books.toscrape.com/catalogue/pop-gun-war-volume-1-gift_918/index.html',\n",
       "  'instock': 'Instock'},\n",
       " {'title': 'Political Suicide: Missteps, Peccadilloes, Bad Calls, Backroom Hijinx, Sordid Pasts, Rotten Breaks, and Just Plain Dumb Mistakes in the Annals of American Politics',\n",
       "  'url': 'https://books.toscrape.com/catalogue/political-suicide-missteps-peccadilloes-bad-calls-backroom-hijinx-sordid-pasts-rotten-breaks-and-just-plain-dumb-mistakes-in-the-annals-of-american-politics_917/index.html',\n",
       "  'instock': 'Instock'},\n",
       " {'title': 'Patience',\n",
       "  'url': 'https://books.toscrape.com/catalogue/patience_916/index.html',\n",
       "  'instock': 'Instock'},\n",
       " {'title': 'Outcast, Vol. 1: A Darkness Surrounds Him (Outcast #1)',\n",
       "  'url': 'https://books.toscrape.com/catalogue/outcast-vol-1-a-darkness-surrounds-him-outcast-1_915/index.html',\n",
       "  'instock': 'Instock'},\n",
       " {'title': 'orange: The Complete Collection 1 (orange: The Complete Collection #1)',\n",
       "  'url': 'https://books.toscrape.com/catalogue/orange-the-complete-collection-1-orange-the-complete-collection-1_914/index.html',\n",
       "  'instock': 'Instock'},\n",
       " {'title': 'Online Marketing for Busy Authors: A Step-By-Step Guide',\n",
       "  'url': 'https://books.toscrape.com/catalogue/online-marketing-for-busy-authors-a-step-by-step-guide_913/index.html',\n",
       "  'instock': 'Instock'},\n",
       " {'title': 'On a Midnight Clear',\n",
       "  'url': 'https://books.toscrape.com/catalogue/on-a-midnight-clear_912/index.html',\n",
       "  'instock': 'Instock'},\n",
       " {'title': 'Obsidian (Lux #1)',\n",
       "  'url': 'https://books.toscrape.com/catalogue/obsidian-lux-1_911/index.html',\n",
       "  'instock': 'Instock'},\n",
       " {'title': 'My Paris Kitchen: Recipes and Stories',\n",
       "  'url': 'https://books.toscrape.com/catalogue/my-paris-kitchen-recipes-and-stories_910/index.html',\n",
       "  'instock': 'Instock'},\n",
       " {'title': 'Masks and Shadows',\n",
       "  'url': 'https://books.toscrape.com/catalogue/masks-and-shadows_909/index.html',\n",
       "  'instock': 'Instock'},\n",
       " {'title': 'Mama Tried: Traditional Italian Cooking for the Screwed, Crude, Vegan, and Tattooed',\n",
       "  'url': 'https://books.toscrape.com/catalogue/mama-tried-traditional-italian-cooking-for-the-screwed-crude-vegan-and-tattooed_908/index.html',\n",
       "  'instock': 'Instock'},\n",
       " {'title': 'Lumberjanes, Vol. 2: Friendship to the Max (Lumberjanes #5-8)',\n",
       "  'url': 'https://books.toscrape.com/catalogue/lumberjanes-vol-2-friendship-to-the-max-lumberjanes-5-8_907/index.html',\n",
       "  'instock': 'Instock'},\n",
       " {'title': 'Lumberjanes, Vol. 1: Beware the Kitten Holy (Lumberjanes #1-4)',\n",
       "  'url': 'https://books.toscrape.com/catalogue/lumberjanes-vol-1-beware-the-kitten-holy-lumberjanes-1-4_906/index.html',\n",
       "  'instock': 'Instock'},\n",
       " {'title': 'Lumberjanes Vol. 3: A Terrible Plan (Lumberjanes #9-12)',\n",
       "  'url': 'https://books.toscrape.com/catalogue/lumberjanes-vol-3-a-terrible-plan-lumberjanes-9-12_905/index.html',\n",
       "  'instock': 'Instock'},\n",
       " {'title': 'Layered: Baking, Building, and Styling Spectacular Cakes',\n",
       "  'url': 'https://books.toscrape.com/catalogue/layered-baking-building-and-styling-spectacular-cakes_904/index.html',\n",
       "  'instock': 'Instock'},\n",
       " {'title': 'Judo: Seven Steps to Black Belt (an Introductory Guide for Beginners)',\n",
       "  'url': 'https://books.toscrape.com/catalogue/judo-seven-steps-to-black-belt-an-introductory-guide-for-beginners_903/index.html',\n",
       "  'instock': 'Instock'},\n",
       " {'title': 'Join',\n",
       "  'url': 'https://books.toscrape.com/catalogue/join_902/index.html',\n",
       "  'instock': 'Instock'},\n",
       " {'title': 'In the Country We Love: My Family Divided',\n",
       "  'url': 'https://books.toscrape.com/catalogue/in-the-country-we-love-my-family-divided_901/index.html',\n",
       "  'instock': 'Instock'}]"
      ]
     },
     "execution_count": 136,
     "metadata": {},
     "output_type": "execute_result"
    }
   ],
   "source": [
    "#Question 1\n",
    "\n",
    "base_url = \"https://books.toscrape.com/catalogue/category/books_1/\"\n",
    "page_urls = generate_page_urls(base_url, 5) # to save time and resources we only scrape the first 2 pages\n",
    "book_list = extract_book_urls(page_urls)\n",
    "book_list"
   ]
  },
  {
   "cell_type": "code",
   "execution_count": 310,
   "metadata": {},
   "outputs": [
    {
     "data": {
      "text/plain": [
       "[{'title': 'A Light in the Attic',\n",
       "  'url': 'https://books.toscrape.com/catalogue/a-light-in-the-attic_1000/index.html',\n",
       "  'instock': '\\n\\n    \\n        In stock\\n    \\n'},\n",
       " {'title': 'Tipping the Velvet',\n",
       "  'url': 'https://books.toscrape.com/catalogue/tipping-the-velvet_999/index.html',\n",
       "  'instock': '\\n\\n    \\n        In stock\\n    \\n'},\n",
       " {'title': 'Soumission',\n",
       "  'url': 'https://books.toscrape.com/catalogue/soumission_998/index.html',\n",
       "  'instock': '\\n\\n    \\n        In stock\\n    \\n'},\n",
       " {'title': 'Sharp Objects',\n",
       "  'url': 'https://books.toscrape.com/catalogue/sharp-objects_997/index.html',\n",
       "  'instock': '\\n\\n    \\n        In stock\\n    \\n'},\n",
       " {'title': 'Sapiens: A Brief History of Humankind',\n",
       "  'url': 'https://books.toscrape.com/catalogue/sapiens-a-brief-history-of-humankind_996/index.html',\n",
       "  'instock': '\\n\\n    \\n        In stock\\n    \\n'}]"
      ]
     },
     "execution_count": 310,
     "metadata": {},
     "output_type": "execute_result"
    }
   ],
   "source": [
    "# Question 2\n",
    "def extract_book_urls(page_urls):\n",
    "    '''collect the book title and url for every book on all page urls'''\n",
    "    book_list = []\n",
    "    \n",
    "    for page_url in page_urls: \n",
    "        res = requests.get(page_url)\n",
    "        soup = BeautifulSoup(res.text, \"html.parser\")\n",
    "        books = soup.find_all(class_=\"product_pod\")\n",
    "\n",
    "        for book in books: \n",
    "            book_title = book.find(\"img\").attrs[\"alt\"] \n",
    "            book_url = (\"https://books.toscrape.com/catalogue/\" + book.find(\"a\").attrs[\"href\"]).replace('../','')\n",
    "            book_instock = book.find(\"p\", class_=\"instock availability\").text\n",
    "            book_list.append({\"title\": book_title,\n",
    "                             \"url\": book_url,\n",
    "                             \"instock\": book_instock})\n",
    "            \n",
    "        sleep(1)  # pause 1 second after each request\n",
    "            \n",
    "    return book_list\n",
    "\n",
    "base_url = \"https://books.toscrape.com/catalogue/category/books_1/\"\n",
    "page_urls = generate_page_urls(base_url, 1) # to save time and resources we only scrape the first 2 pages\n",
    "book_list = extract_book_urls(page_urls)\n",
    "book_list[0:5]"
   ]
  },
  {
   "cell_type": "code",
   "execution_count": 319,
   "metadata": {},
   "outputs": [
    {
     "data": {
      "text/plain": [
       "[{'title': 'A Light in the Attic',\n",
       "  'url': 'https://books.toscrape.com/catalogue/a-light-in-the-attic_1000/index.html',\n",
       "  'instock': 'Instock'},\n",
       " {'title': 'Tipping the Velvet',\n",
       "  'url': 'https://books.toscrape.com/catalogue/tipping-the-velvet_999/index.html',\n",
       "  'instock': 'Instock'},\n",
       " {'title': 'Soumission',\n",
       "  'url': 'https://books.toscrape.com/catalogue/soumission_998/index.html',\n",
       "  'instock': 'Instock'},\n",
       " {'title': 'Sharp Objects',\n",
       "  'url': 'https://books.toscrape.com/catalogue/sharp-objects_997/index.html',\n",
       "  'instock': 'Instock'},\n",
       " {'title': 'Sapiens: A Brief History of Humankind',\n",
       "  'url': 'https://books.toscrape.com/catalogue/sapiens-a-brief-history-of-humankind_996/index.html',\n",
       "  'instock': 'Instock'},\n",
       " {'title': 'The Requiem Red',\n",
       "  'url': 'https://books.toscrape.com/catalogue/the-requiem-red_995/index.html',\n",
       "  'instock': 'Instock'},\n",
       " {'title': 'The Dirty Little Secrets of Getting Your Dream Job',\n",
       "  'url': 'https://books.toscrape.com/catalogue/the-dirty-little-secrets-of-getting-your-dream-job_994/index.html',\n",
       "  'instock': 'Instock'},\n",
       " {'title': 'The Coming Woman: A Novel Based on the Life of the Infamous Feminist, Victoria Woodhull',\n",
       "  'url': 'https://books.toscrape.com/catalogue/the-coming-woman-a-novel-based-on-the-life-of-the-infamous-feminist-victoria-woodhull_993/index.html',\n",
       "  'instock': 'Instock'},\n",
       " {'title': 'The Boys in the Boat: Nine Americans and Their Epic Quest for Gold at the 1936 Berlin Olympics',\n",
       "  'url': 'https://books.toscrape.com/catalogue/the-boys-in-the-boat-nine-americans-and-their-epic-quest-for-gold-at-the-1936-berlin-olympics_992/index.html',\n",
       "  'instock': 'Instock'},\n",
       " {'title': 'The Black Maria',\n",
       "  'url': 'https://books.toscrape.com/catalogue/the-black-maria_991/index.html',\n",
       "  'instock': 'Instock'},\n",
       " {'title': 'Starving Hearts (Triangular Trade Trilogy, #1)',\n",
       "  'url': 'https://books.toscrape.com/catalogue/starving-hearts-triangular-trade-trilogy-1_990/index.html',\n",
       "  'instock': 'Instock'},\n",
       " {'title': \"Shakespeare's Sonnets\",\n",
       "  'url': 'https://books.toscrape.com/catalogue/shakespeares-sonnets_989/index.html',\n",
       "  'instock': 'Instock'},\n",
       " {'title': 'Set Me Free',\n",
       "  'url': 'https://books.toscrape.com/catalogue/set-me-free_988/index.html',\n",
       "  'instock': 'Instock'},\n",
       " {'title': \"Scott Pilgrim's Precious Little Life (Scott Pilgrim #1)\",\n",
       "  'url': 'https://books.toscrape.com/catalogue/scott-pilgrims-precious-little-life-scott-pilgrim-1_987/index.html',\n",
       "  'instock': 'Instock'},\n",
       " {'title': 'Rip it Up and Start Again',\n",
       "  'url': 'https://books.toscrape.com/catalogue/rip-it-up-and-start-again_986/index.html',\n",
       "  'instock': 'Instock'},\n",
       " {'title': 'Our Band Could Be Your Life: Scenes from the American Indie Underground, 1981-1991',\n",
       "  'url': 'https://books.toscrape.com/catalogue/our-band-could-be-your-life-scenes-from-the-american-indie-underground-1981-1991_985/index.html',\n",
       "  'instock': 'Instock'},\n",
       " {'title': 'Olio',\n",
       "  'url': 'https://books.toscrape.com/catalogue/olio_984/index.html',\n",
       "  'instock': 'Instock'},\n",
       " {'title': 'Mesaerion: The Best Science Fiction Stories 1800-1849',\n",
       "  'url': 'https://books.toscrape.com/catalogue/mesaerion-the-best-science-fiction-stories-1800-1849_983/index.html',\n",
       "  'instock': 'Instock'},\n",
       " {'title': 'Libertarianism for Beginners',\n",
       "  'url': 'https://books.toscrape.com/catalogue/libertarianism-for-beginners_982/index.html',\n",
       "  'instock': 'Instock'},\n",
       " {'title': \"It's Only the Himalayas\",\n",
       "  'url': 'https://books.toscrape.com/catalogue/its-only-the-himalayas_981/index.html',\n",
       "  'instock': 'Instock'}]"
      ]
     },
     "execution_count": 319,
     "metadata": {},
     "output_type": "execute_result"
    }
   ],
   "source": [
    "# Question 3\n",
    "def extract_book_urls(page_urls):\n",
    "    '''collect the book title and url for every book on all page urls'''\n",
    "    book_list = []\n",
    "    \n",
    "    for page_url in page_urls: \n",
    "        res = requests.get(page_url)\n",
    "        soup = BeautifulSoup(res.text, \"html.parser\")\n",
    "        books = soup.find_all(class_=\"product_pod\")\n",
    "\n",
    "        for book in books: \n",
    "            book_title = book.find(\"img\").attrs[\"alt\"] \n",
    "            book_url = \"https://books.toscrape.com/catalogue/\" + book.find(\"a\").attrs[\"href\"].replace('../','')\n",
    "            book_instock = book.find(\"p\", class_=\"instock availability\").text\n",
    "            # addition to clean up the text\n",
    "            book_instock = book_instock.replace('\\n','').replace(' ','')\n",
    "            # ~end~\n",
    "            book_list.append({\"title\": book_title,\n",
    "                             \"url\": book_url,\n",
    "                             \"instock\": book_instock})\n",
    "            \n",
    "        sleep(1)  # pause 1 second after each request\n",
    "            \n",
    "    return book_list\n",
    "\n",
    "base_url = \"https://books.toscrape.com/catalogue/category/books_1/\"\n",
    "page_urls = generate_page_urls(base_url, 1) # to save time and resources we only scrape the first 2 pages\n",
    "book_list = extract_book_urls(page_urls)\n",
    "book_list"
   ]
  },
  {
   "cell_type": "markdown",
   "metadata": {},
   "source": [
    "### 2.3 Next Page Button\n",
    "\n",
    "__Importance__\n",
    "\n",
    "For now, the book link extraction has worked without problems. Yet ,there's still one little improvement that we can make. *If the number of pages changes*, we need to manually update the `num_pages` parameter. For example, we may miss out once new books are added which appear on page 51 and further. \n",
    "\n",
    "A general solution is therefore to look up whether there is a `next` button on the page (HTML code below). If so, it means a next page exists, and we keep on incrementing the page counter by 1. If not, it means we have reached the last page. "
   ]
  },
  {
   "cell_type": "markdown",
   "metadata": {},
   "source": [
    "<img src=\"images/next_page.png\" align=\"left\" width=60% style=\"border: 1px solid black\" />"
   ]
  },
  {
   "cell_type": "markdown",
   "metadata": {},
   "source": [
    "__Let's try it out__\n",
    "\n",
    "So, let's write a function (`check_next_page()`), which takes an URL as an input and returns the outgoing link of the next button (if present):"
   ]
  },
  {
   "cell_type": "code",
   "execution_count": 154,
   "metadata": {},
   "outputs": [
    {
     "name": "stdout",
     "output_type": "stream",
     "text": [
      "The next page is: page-2.html\n"
     ]
    }
   ],
   "source": [
    "def check_next_page(url):\n",
    "    res = requests.get(url)\n",
    "    soup = BeautifulSoup(res.text, \"html.parser\")\n",
    "    next_btn = soup.find(class_= \"next\") # observe the similarity with the code snippet used above\n",
    "    return next_btn.find(\"a\").attrs[\"href\"] if next_btn else None\n",
    "\n",
    "page_1 = \"https://books.toscrape.com/catalogue/page-1.html\"\n",
    "print(\"The next page is: \" + check_next_page(page_1))"
   ]
  },
  {
   "cell_type": "markdown",
   "metadata": {},
   "source": [
    "#### Exercise 7\n",
    "1. Pass `https://books.toscrape.com/catalogue/page-50.html` to `check_next_page()` and observe the output. Is that what you expected? \n",
    "2. Write a function `next_page_url()` that that checks whether the output of `check_next_page()` is not equal to `None` (i.e., anything but `None`). If so, it should return a new variable `page_url` that concatenates the base URL and the relative path to the next page. If not, it should print the statement `This is already the last page!`. Tip: make use of `if`/`else` statements."
   ]
  },
  {
   "cell_type": "markdown",
   "metadata": {},
   "source": [
    "#### Solutions"
   ]
  },
  {
   "cell_type": "code",
   "execution_count": 150,
   "metadata": {},
   "outputs": [
    {
     "name": "stdout",
     "output_type": "stream",
     "text": [
      "None\n"
     ]
    }
   ],
   "source": [
    "# Question 1 \n",
    "output = check_next_page(\"https://books.toscrape.com/catalogue/page-50.html\")\n",
    "print(output) # the output is None because page 50 is the last one"
   ]
  },
  {
   "cell_type": "code",
   "execution_count": 151,
   "metadata": {
    "scrolled": true
   },
   "outputs": [
    {
     "name": "stdout",
     "output_type": "stream",
     "text": [
      "This is already the last page!\n"
     ]
    }
   ],
   "source": [
    "# Question 2 \n",
    "def next_page_url(url):\n",
    "    base_url = \"https://books.toscrape.com/catalogue/\"\n",
    "    if url != None: \n",
    "        page_url = base_url + url \n",
    "        return page_url \n",
    "    else: \n",
    "        print(\"This is already the last page!\")\n",
    "        \n",
    "next_page_url(check_next_page(\"https://books.toscrape.com/catalogue/page-50.html\"))"
   ]
  },
  {
   "cell_type": "markdown",
   "metadata": {},
   "source": [
    "### 2.4 Combining everything in one function"
   ]
  },
  {
   "cell_type": "markdown",
   "metadata": {},
   "source": [
    "__Importance__\n",
    "\n",
    "Our scraper so far consists of a function that extracts books from the page (`extract_books_urls()`), a function to check whether a next page is available (`next_page_url`), and a function that looks up the next URL (`check_next_page()`). \n",
    "\n",
    "As a last step, we can now integrate these functions into one *overarching* function. Instead of generating the list of page URLs up front, we use a `while` loop that remains `True` as long as there is another new page. At the end of each loop, we update the `page_url` according to the link of the next button (using `check_next_page()`). On the last page, there is no new page URL and thus we break out of the while loop. We've added a print statement at the beginning of the `while` loop, so that you can observe the progress of the scraper while it is running.\n",
    "\n",
    "All in all, we have modularized our code into functions, made it future-proof (e.g. if new books are added), and reduced the number of lines of code to get the job done! "
   ]
  },
  {
   "cell_type": "code",
   "execution_count": 312,
   "metadata": {},
   "outputs": [],
   "source": [
    "def extract_all_books(page_url):\n",
    "    books = []\n",
    "    while page_url:\n",
    "        print(page_url)\n",
    "        for book in extract_book_urls([page_url]):\n",
    "            books.append(book)\n",
    "        \n",
    "        if check_next_page(page_url) != None: \n",
    "            page_url = \"https://books.toscrape.com/catalogue/category/books_1/\" + check_next_page(page_url)\n",
    "        else: \n",
    "            break\n",
    "        \n",
    "        # if \"page-4\" in page_url: break # (activate this if you don't want to run the entire loop)\n",
    "    return books"
   ]
  },
  {
   "cell_type": "markdown",
   "metadata": {},
   "source": [
    "__Let's try it out__\n",
    "\n",
    "Run the cell below to see the scraper in action! You may need to wait for a bit as the scraper loops through all 50 pages. If you don't feel like taking a coffee break, remove the `#` sign in front of the `if` statement to abort the function before it starts with page 4."
   ]
  },
  {
   "cell_type": "code",
   "execution_count": 320,
   "metadata": {},
   "outputs": [
    {
     "name": "stdout",
     "output_type": "stream",
     "text": [
      "https://books.toscrape.com/catalogue/page-1.html\n",
      "https://books.toscrape.com/catalogue/category/books_1/page-2.html\n",
      "https://books.toscrape.com/catalogue/category/books_1/page-3.html\n"
     ]
    }
   ],
   "source": [
    "book_list = extract_all_books(\"https://books.toscrape.com/catalogue/page-1.html\")"
   ]
  },
  {
   "cell_type": "code",
   "execution_count": 321,
   "metadata": {},
   "outputs": [
    {
     "data": {
      "text/plain": [
       "[{'title': 'A Light in the Attic',\n",
       "  'url': 'https://books.toscrape.com/catalogue/a-light-in-the-attic_1000/index.html',\n",
       "  'instock': 'Instock'},\n",
       " {'title': 'Tipping the Velvet',\n",
       "  'url': 'https://books.toscrape.com/catalogue/tipping-the-velvet_999/index.html',\n",
       "  'instock': 'Instock'},\n",
       " {'title': 'Soumission',\n",
       "  'url': 'https://books.toscrape.com/catalogue/soumission_998/index.html',\n",
       "  'instock': 'Instock'},\n",
       " {'title': 'Sharp Objects',\n",
       "  'url': 'https://books.toscrape.com/catalogue/sharp-objects_997/index.html',\n",
       "  'instock': 'Instock'},\n",
       " {'title': 'Sapiens: A Brief History of Humankind',\n",
       "  'url': 'https://books.toscrape.com/catalogue/sapiens-a-brief-history-of-humankind_996/index.html',\n",
       "  'instock': 'Instock'},\n",
       " {'title': 'The Requiem Red',\n",
       "  'url': 'https://books.toscrape.com/catalogue/the-requiem-red_995/index.html',\n",
       "  'instock': 'Instock'},\n",
       " {'title': 'The Dirty Little Secrets of Getting Your Dream Job',\n",
       "  'url': 'https://books.toscrape.com/catalogue/the-dirty-little-secrets-of-getting-your-dream-job_994/index.html',\n",
       "  'instock': 'Instock'},\n",
       " {'title': 'The Coming Woman: A Novel Based on the Life of the Infamous Feminist, Victoria Woodhull',\n",
       "  'url': 'https://books.toscrape.com/catalogue/the-coming-woman-a-novel-based-on-the-life-of-the-infamous-feminist-victoria-woodhull_993/index.html',\n",
       "  'instock': 'Instock'},\n",
       " {'title': 'The Boys in the Boat: Nine Americans and Their Epic Quest for Gold at the 1936 Berlin Olympics',\n",
       "  'url': 'https://books.toscrape.com/catalogue/the-boys-in-the-boat-nine-americans-and-their-epic-quest-for-gold-at-the-1936-berlin-olympics_992/index.html',\n",
       "  'instock': 'Instock'},\n",
       " {'title': 'The Black Maria',\n",
       "  'url': 'https://books.toscrape.com/catalogue/the-black-maria_991/index.html',\n",
       "  'instock': 'Instock'},\n",
       " {'title': 'Starving Hearts (Triangular Trade Trilogy, #1)',\n",
       "  'url': 'https://books.toscrape.com/catalogue/starving-hearts-triangular-trade-trilogy-1_990/index.html',\n",
       "  'instock': 'Instock'},\n",
       " {'title': \"Shakespeare's Sonnets\",\n",
       "  'url': 'https://books.toscrape.com/catalogue/shakespeares-sonnets_989/index.html',\n",
       "  'instock': 'Instock'},\n",
       " {'title': 'Set Me Free',\n",
       "  'url': 'https://books.toscrape.com/catalogue/set-me-free_988/index.html',\n",
       "  'instock': 'Instock'},\n",
       " {'title': \"Scott Pilgrim's Precious Little Life (Scott Pilgrim #1)\",\n",
       "  'url': 'https://books.toscrape.com/catalogue/scott-pilgrims-precious-little-life-scott-pilgrim-1_987/index.html',\n",
       "  'instock': 'Instock'},\n",
       " {'title': 'Rip it Up and Start Again',\n",
       "  'url': 'https://books.toscrape.com/catalogue/rip-it-up-and-start-again_986/index.html',\n",
       "  'instock': 'Instock'},\n",
       " {'title': 'Our Band Could Be Your Life: Scenes from the American Indie Underground, 1981-1991',\n",
       "  'url': 'https://books.toscrape.com/catalogue/our-band-could-be-your-life-scenes-from-the-american-indie-underground-1981-1991_985/index.html',\n",
       "  'instock': 'Instock'},\n",
       " {'title': 'Olio',\n",
       "  'url': 'https://books.toscrape.com/catalogue/olio_984/index.html',\n",
       "  'instock': 'Instock'},\n",
       " {'title': 'Mesaerion: The Best Science Fiction Stories 1800-1849',\n",
       "  'url': 'https://books.toscrape.com/catalogue/mesaerion-the-best-science-fiction-stories-1800-1849_983/index.html',\n",
       "  'instock': 'Instock'},\n",
       " {'title': 'Libertarianism for Beginners',\n",
       "  'url': 'https://books.toscrape.com/catalogue/libertarianism-for-beginners_982/index.html',\n",
       "  'instock': 'Instock'},\n",
       " {'title': \"It's Only the Himalayas\",\n",
       "  'url': 'https://books.toscrape.com/catalogue/its-only-the-himalayas_981/index.html',\n",
       "  'instock': 'Instock'},\n",
       " {'title': 'In Her Wake',\n",
       "  'url': 'https://books.toscrape.com/catalogue/in-her-wake_980/index.html',\n",
       "  'instock': 'Instock'},\n",
       " {'title': 'How Music Works',\n",
       "  'url': 'https://books.toscrape.com/catalogue/how-music-works_979/index.html',\n",
       "  'instock': 'Instock'},\n",
       " {'title': 'Foolproof Preserving: A Guide to Small Batch Jams, Jellies, Pickles, Condiments, and More: A Foolproof Guide to Making Small Batch Jams, Jellies, Pickles, Condiments, and More',\n",
       "  'url': 'https://books.toscrape.com/catalogue/foolproof-preserving-a-guide-to-small-batch-jams-jellies-pickles-condiments-and-more-a-foolproof-guide-to-making-small-batch-jams-jellies-pickles-condiments-and-more_978/index.html',\n",
       "  'instock': 'Instock'},\n",
       " {'title': 'Chase Me (Paris Nights #2)',\n",
       "  'url': 'https://books.toscrape.com/catalogue/chase-me-paris-nights-2_977/index.html',\n",
       "  'instock': 'Instock'},\n",
       " {'title': 'Black Dust',\n",
       "  'url': 'https://books.toscrape.com/catalogue/black-dust_976/index.html',\n",
       "  'instock': 'Instock'},\n",
       " {'title': 'Birdsong: A Story in Pictures',\n",
       "  'url': 'https://books.toscrape.com/catalogue/birdsong-a-story-in-pictures_975/index.html',\n",
       "  'instock': 'Instock'},\n",
       " {'title': \"America's Cradle of Quarterbacks: Western Pennsylvania's Football Factory from Johnny Unitas to Joe Montana\",\n",
       "  'url': 'https://books.toscrape.com/catalogue/americas-cradle-of-quarterbacks-western-pennsylvanias-football-factory-from-johnny-unitas-to-joe-montana_974/index.html',\n",
       "  'instock': 'Instock'},\n",
       " {'title': 'Aladdin and His Wonderful Lamp',\n",
       "  'url': 'https://books.toscrape.com/catalogue/aladdin-and-his-wonderful-lamp_973/index.html',\n",
       "  'instock': 'Instock'},\n",
       " {'title': 'Worlds Elsewhere: Journeys Around Shakespeareâ\\x80\\x99s Globe',\n",
       "  'url': 'https://books.toscrape.com/catalogue/worlds-elsewhere-journeys-around-shakespeares-globe_972/index.html',\n",
       "  'instock': 'Instock'},\n",
       " {'title': 'Wall and Piece',\n",
       "  'url': 'https://books.toscrape.com/catalogue/wall-and-piece_971/index.html',\n",
       "  'instock': 'Instock'},\n",
       " {'title': 'The Four Agreements: A Practical Guide to Personal Freedom',\n",
       "  'url': 'https://books.toscrape.com/catalogue/the-four-agreements-a-practical-guide-to-personal-freedom_970/index.html',\n",
       "  'instock': 'Instock'},\n",
       " {'title': 'The Five Love Languages: How to Express Heartfelt Commitment to Your Mate',\n",
       "  'url': 'https://books.toscrape.com/catalogue/the-five-love-languages-how-to-express-heartfelt-commitment-to-your-mate_969/index.html',\n",
       "  'instock': 'Instock'},\n",
       " {'title': 'The Elephant Tree',\n",
       "  'url': 'https://books.toscrape.com/catalogue/the-elephant-tree_968/index.html',\n",
       "  'instock': 'Instock'},\n",
       " {'title': 'The Bear and the Piano',\n",
       "  'url': 'https://books.toscrape.com/catalogue/the-bear-and-the-piano_967/index.html',\n",
       "  'instock': 'Instock'},\n",
       " {'title': \"Sophie's World\",\n",
       "  'url': 'https://books.toscrape.com/catalogue/sophies-world_966/index.html',\n",
       "  'instock': 'Instock'},\n",
       " {'title': 'Penny Maybe',\n",
       "  'url': 'https://books.toscrape.com/catalogue/penny-maybe_965/index.html',\n",
       "  'instock': 'Instock'},\n",
       " {'title': 'Maude (1883-1993):She Grew Up with the country',\n",
       "  'url': 'https://books.toscrape.com/catalogue/maude-1883-1993she-grew-up-with-the-country_964/index.html',\n",
       "  'instock': 'Instock'},\n",
       " {'title': 'In a Dark, Dark Wood',\n",
       "  'url': 'https://books.toscrape.com/catalogue/in-a-dark-dark-wood_963/index.html',\n",
       "  'instock': 'Instock'},\n",
       " {'title': 'Behind Closed Doors',\n",
       "  'url': 'https://books.toscrape.com/catalogue/behind-closed-doors_962/index.html',\n",
       "  'instock': 'Instock'},\n",
       " {'title': \"You can't bury them all: Poems\",\n",
       "  'url': 'https://books.toscrape.com/catalogue/you-cant-bury-them-all-poems_961/index.html',\n",
       "  'instock': 'Instock'},\n",
       " {'title': 'Slow States of Collapse: Poems',\n",
       "  'url': 'https://books.toscrape.com/catalogue/slow-states-of-collapse-poems_960/index.html',\n",
       "  'instock': 'Instock'},\n",
       " {'title': 'Reasons to Stay Alive',\n",
       "  'url': 'https://books.toscrape.com/catalogue/reasons-to-stay-alive_959/index.html',\n",
       "  'instock': 'Instock'},\n",
       " {'title': 'Private Paris (Private #10)',\n",
       "  'url': 'https://books.toscrape.com/catalogue/private-paris-private-10_958/index.html',\n",
       "  'instock': 'Instock'},\n",
       " {'title': '#HigherSelfie: Wake Up Your Life. Free Your Soul. Find Your Tribe.',\n",
       "  'url': 'https://books.toscrape.com/catalogue/higherselfie-wake-up-your-life-free-your-soul-find-your-tribe_957/index.html',\n",
       "  'instock': 'Instock'},\n",
       " {'title': 'Without Borders (Wanderlove #1)',\n",
       "  'url': 'https://books.toscrape.com/catalogue/without-borders-wanderlove-1_956/index.html',\n",
       "  'instock': 'Instock'},\n",
       " {'title': 'When We Collided',\n",
       "  'url': 'https://books.toscrape.com/catalogue/when-we-collided_955/index.html',\n",
       "  'instock': 'Instock'},\n",
       " {'title': 'We Love You, Charlie Freeman',\n",
       "  'url': 'https://books.toscrape.com/catalogue/we-love-you-charlie-freeman_954/index.html',\n",
       "  'instock': 'Instock'},\n",
       " {'title': 'Untitled Collection: Sabbath Poems 2014',\n",
       "  'url': 'https://books.toscrape.com/catalogue/untitled-collection-sabbath-poems-2014_953/index.html',\n",
       "  'instock': 'Instock'},\n",
       " {'title': 'Unseen City: The Majesty of Pigeons, the Discreet Charm of Snails & Other Wonders of the Urban Wilderness',\n",
       "  'url': 'https://books.toscrape.com/catalogue/unseen-city-the-majesty-of-pigeons-the-discreet-charm-of-snails-other-wonders-of-the-urban-wilderness_952/index.html',\n",
       "  'instock': 'Instock'},\n",
       " {'title': 'Unicorn Tracks',\n",
       "  'url': 'https://books.toscrape.com/catalogue/unicorn-tracks_951/index.html',\n",
       "  'instock': 'Instock'},\n",
       " {'title': 'Unbound: How Eight Technologies Made Us Human, Transformed Society, and Brought Our World to the Brink',\n",
       "  'url': 'https://books.toscrape.com/catalogue/unbound-how-eight-technologies-made-us-human-transformed-society-and-brought-our-world-to-the-brink_950/index.html',\n",
       "  'instock': 'Instock'},\n",
       " {'title': 'Tsubasa: WoRLD CHRoNiCLE 2 (Tsubasa WoRLD CHRoNiCLE #2)',\n",
       "  'url': 'https://books.toscrape.com/catalogue/tsubasa-world-chronicle-2-tsubasa-world-chronicle-2_949/index.html',\n",
       "  'instock': 'Instock'},\n",
       " {'title': 'Throwing Rocks at the Google Bus: How Growth Became the Enemy of Prosperity',\n",
       "  'url': 'https://books.toscrape.com/catalogue/throwing-rocks-at-the-google-bus-how-growth-became-the-enemy-of-prosperity_948/index.html',\n",
       "  'instock': 'Instock'},\n",
       " {'title': 'This One Summer',\n",
       "  'url': 'https://books.toscrape.com/catalogue/this-one-summer_947/index.html',\n",
       "  'instock': 'Instock'},\n",
       " {'title': 'Thirst',\n",
       "  'url': 'https://books.toscrape.com/catalogue/thirst_946/index.html',\n",
       "  'instock': 'Instock'},\n",
       " {'title': 'The Torch Is Passed: A Harding Family Story',\n",
       "  'url': 'https://books.toscrape.com/catalogue/the-torch-is-passed-a-harding-family-story_945/index.html',\n",
       "  'instock': 'Instock'},\n",
       " {'title': 'The Secret of Dreadwillow Carse',\n",
       "  'url': 'https://books.toscrape.com/catalogue/the-secret-of-dreadwillow-carse_944/index.html',\n",
       "  'instock': 'Instock'},\n",
       " {'title': 'The Pioneer Woman Cooks: Dinnertime: Comfort Classics, Freezer Food, 16-Minute Meals, and Other Delicious Ways to Solve Supper!',\n",
       "  'url': 'https://books.toscrape.com/catalogue/the-pioneer-woman-cooks-dinnertime-comfort-classics-freezer-food-16-minute-meals-and-other-delicious-ways-to-solve-supper_943/index.html',\n",
       "  'instock': 'Instock'},\n",
       " {'title': 'The Past Never Ends',\n",
       "  'url': 'https://books.toscrape.com/catalogue/the-past-never-ends_942/index.html',\n",
       "  'instock': 'Instock'},\n",
       " {'title': 'The Natural History of Us (The Fine Art of Pretending #2)',\n",
       "  'url': 'https://books.toscrape.com/catalogue/the-natural-history-of-us-the-fine-art-of-pretending-2_941/index.html',\n",
       "  'instock': 'Instock'}]"
      ]
     },
     "execution_count": 321,
     "metadata": {},
     "output_type": "execute_result"
    }
   ],
   "source": [
    "book_list"
   ]
  },
  {
   "cell_type": "markdown",
   "metadata": {},
   "source": [
    "#### Exercise 8\n",
    "\n",
    "After having run the scraper above, inspect the output yourself, and then answer the following questions.\n",
    "\n",
    "1. How many books are there in `books`? Does this align with your initial expectations?\n",
    "2. A friend recommended the book `The Boys in the Boat: Nine Americans and Their Epic Quest for Gold at the 1936 Berlin Olympics`. After looking up the reviews on [GoodReads](https://www.goodreads.com/book/show/25986790-the-activist-s-tao-te-ching?ac=1&from_search=true&qid=jpcvOsxKfP&rank=1), you decide to look for a copy of the book online. Does [books.toscrape.com](books.toscrape.com) offer a copy in their store? If so, do they have enough stock currently?\n",
    "3. How many books are in stock currently?\n",
    "4. How many books are there that have the word \"the\" (lower or upper case) in their title?"
   ]
  },
  {
   "cell_type": "markdown",
   "metadata": {},
   "source": [
    "#### Solutions\n"
   ]
  },
  {
   "cell_type": "code",
   "execution_count": 315,
   "metadata": {},
   "outputs": [
    {
     "data": {
      "text/plain": [
       "1000"
      ]
     },
     "execution_count": 315,
     "metadata": {},
     "output_type": "execute_result"
    }
   ],
   "source": [
    "#Question 1\n",
    "#There are 1000 books \n",
    "\n",
    "len(books)\n",
    "\n",
    "#That's 50 pages into 20 products, which matches our expectations."
   ]
  },
  {
   "cell_type": "code",
   "execution_count": 323,
   "metadata": {},
   "outputs": [
    {
     "data": {
      "text/plain": [
       "{'title': 'A Light in the Attic',\n",
       " 'url': 'https://books.toscrape.com/catalogue/t-in-the-attic_1000/index.html',\n",
       " 'instock': 'Instock'}"
      ]
     },
     "execution_count": 323,
     "metadata": {},
     "output_type": "execute_result"
    }
   ],
   "source": [
    "books[0]"
   ]
  },
  {
   "cell_type": "code",
   "execution_count": 324,
   "metadata": {},
   "outputs": [
    {
     "data": {
      "text/plain": [
       "{'title': 'The Boys in the Boat: Nine Americans and Their Epic Quest for Gold at the 1936 Berlin Olympics',\n",
       " 'url': 'https://books.toscrape.com/catalogue/the-boys-in-the-boat-nine-americans-and-their-epic-quest-for-gold-at-the-1936-berlin-olympics_992/index.html',\n",
       " 'instock': 'Instock'}"
      ]
     },
     "execution_count": 324,
     "metadata": {},
     "output_type": "execute_result"
    }
   ],
   "source": [
    "# Question 2\n",
    "# we use one of the code snippets from above to search for the title\n",
    "\n",
    "next((book for book in book_list if book[\"title\"] == 'The Boys in the Boat: Nine Americans and Their Epic Quest for Gold at the 1936 Berlin Olympics'), None)\n",
    "\n",
    "# we can view the URL and open it in the browser."
   ]
  },
  {
   "cell_type": "code",
   "execution_count": 325,
   "metadata": {},
   "outputs": [
    {
     "data": {
      "text/plain": [
       "60"
      ]
     },
     "execution_count": 325,
     "metadata": {},
     "output_type": "execute_result"
    }
   ],
   "source": [
    "# Question 3\n",
    "books_instock = [book for book in book_list if book[\"instock\"] == \"Instock\"]\n",
    "len(books_instock)\n",
    "\n",
    "# All books are in stock!"
   ]
  },
  {
   "cell_type": "code",
   "execution_count": 326,
   "metadata": {},
   "outputs": [
    {
     "data": {
      "text/plain": [
       "24"
      ]
     },
     "execution_count": 326,
     "metadata": {},
     "output_type": "execute_result"
    }
   ],
   "source": [
    "# Question 4\n",
    "len([book for book in book_list if \"the\" in book[\"title\"].lower()])\n",
    "\n",
    "# here, we're checking for the appearence of the word \"boat\" in the title."
   ]
  },
  {
   "cell_type": "markdown",
   "metadata": {},
   "source": [
    "In case you haven't done so, it's time to take a break now! Enjoy!"
   ]
  },
  {
   "cell_type": "markdown",
   "metadata": {},
   "source": [
    "### 2.5 Page-Level Data Collection"
   ]
  },
  {
   "cell_type": "markdown",
   "metadata": {},
   "source": [
    "**Importance**   \n",
    "Do you remember trying to obtain the URL of the [Black Bust](https://books.toscrape.com/catalogue/black-dust_976/index.html) book in exercise 2? Let's see whether it works this time... (you have to run the entire code above for 50 pages!)"
   ]
  },
  {
   "cell_type": "code",
   "execution_count": 327,
   "metadata": {},
   "outputs": [
    {
     "data": {
      "text/plain": [
       "[{'title': 'Black Dust',\n",
       "  'url': 'https://books.toscrape.com/catalogue/black-dust_976/index.html',\n",
       "  'instock': 'Instock'}]"
      ]
     },
     "execution_count": 327,
     "metadata": {},
     "output_type": "execute_result"
    }
   ],
   "source": [
    "[book for book in book_list if book[\"title\"] == \"Black Dust\"]"
   ]
  },
  {
   "cell_type": "markdown",
   "metadata": {},
   "source": [
    "Excellent, it works flawlessly! But, why did we need the book URLs in the first place? It forms the seed for other web scraping efforts. For example, the product descriptions can only be obtained from the book pages themselves which means we need to loop over all book URLs to extract the right information. \n",
    "\n",
    "**Let's try it out!**  \n",
    "\n",
    "In the follow-up exercise, we'll look at how to do this. So... open the [website](https://books.toscrape.com/catalogue/black-dust_976/index.html) in your browser, and run the code cell below to extract the number of reviews for that particular book."
   ]
  },
  {
   "cell_type": "code",
   "execution_count": 328,
   "metadata": {},
   "outputs": [
    {
     "data": {
      "text/plain": [
       "5"
      ]
     },
     "execution_count": 328,
     "metadata": {},
     "output_type": "execute_result"
    }
   ],
   "source": [
    "res = requests.get('https://books.toscrape.com/catalogue/black-dust_976/index.html')\n",
    "soup = BeautifulSoup(res.text, \"html.parser\")\n",
    "len(soup.find(id=\"content_inner\").find(\"p\", class_ = \"star-rating\").find_all(class_ = \"icon-star\"))"
   ]
  },
  {
   "cell_type": "markdown",
   "metadata": {},
   "source": [
    "After running the cell, inspect the website's source code in Chrome, and try to understand the extraction code above. A good way to do so is to break down your extraction code in small chunks, and run them after another."
   ]
  },
  {
   "cell_type": "code",
   "execution_count": 329,
   "metadata": {},
   "outputs": [
    {
     "data": {
      "text/plain": [
       "\n",
       "<!DOCTYPE html>\n",
       "\n",
       "<!--[if lt IE 7]>      <html lang=\"en-us\" class=\"no-js lt-ie9 lt-ie8 lt-ie7\"> <![endif]-->\n",
       "<!--[if IE 7]>         <html lang=\"en-us\" class=\"no-js lt-ie9 lt-ie8\"> <![endif]-->\n",
       "<!--[if IE 8]>         <html lang=\"en-us\" class=\"no-js lt-ie9\"> <![endif]-->\n",
       "<!--[if gt IE 8]><!--> <html class=\"no-js\" lang=\"en-us\"> <!--<![endif]-->\n",
       "<head>\n",
       "<title>\n",
       "    Black Dust | Books to Scrape - Sandbox\n",
       "</title>\n",
       "<meta content=\"text/html; charset=utf-8\" http-equiv=\"content-type\"/>\n",
       "<meta content=\"24th Jun 2016 09:29\" name=\"created\"/>\n",
       "<meta content=\"\n",
       "    No matter how busy he keeps himself, successful Broadway musician Tobias Spence canât outrun the memory of a tragic car crash from his past that claimed a friendâs life and permanently injured his former boyfriend, Emmett.Even after losing Tobias, Emmett Henderson made peace with that awful night, living in his Indiana hometown where he has become a revered choral director No matter how busy he keeps himself, successful Broadway musician Tobias Spence canât outrun the memory of a tragic car crash from his past that claimed a friendâs life and permanently injured his former boyfriend, Emmett.Even after losing Tobias, Emmett Henderson made peace with that awful night, living in his Indiana hometown where he has become a revered choral director. When his students are asked to perform in New York City, he decides to chance reconnecting with his former love, if for no other reason than to get a proper goodbye.When Emmett and Tobias finally meet 15 years after parting ways, it is clear to both of them that their feelings for each other have not changed. As they explore their renewed relationship, the two men face old hurts and the new challenges of a long-distance romance. Will Tobias lose his second chance at love to the ghosts he canât seem to put to rest? ...more\n",
       "\" name=\"description\"/>\n",
       "<meta content=\"width=device-width\" name=\"viewport\"/>\n",
       "<meta content=\"NOARCHIVE,NOCACHE\" name=\"robots\"/>\n",
       "<!-- Le HTML5 shim, for IE6-8 support of HTML elements -->\n",
       "<!--[if lt IE 9]>\n",
       "        <script src=\"//html5shim.googlecode.com/svn/trunk/html5.js\"></script>\n",
       "        <![endif]-->\n",
       "<link href=\"../../static/oscar/favicon.ico\" rel=\"shortcut icon\"/>\n",
       "<link href=\"../../static/oscar/css/styles.css\" rel=\"stylesheet\" type=\"text/css\"/>\n",
       "<link href=\"../../static/oscar/js/bootstrap-datetimepicker/bootstrap-datetimepicker.css\" rel=\"stylesheet\"/>\n",
       "<link href=\"../../static/oscar/css/datetimepicker.css\" rel=\"stylesheet\" type=\"text/css\"/>\n",
       "</head>\n",
       "<body class=\"default\" id=\"default\">\n",
       "<header class=\"header container-fluid\">\n",
       "<div class=\"page_inner\">\n",
       "<div class=\"row\">\n",
       "<div class=\"col-sm-8 h1\"><a href=\"../../index.html\">Books to Scrape</a><small> We love being scraped!</small>\n",
       "</div>\n",
       "</div>\n",
       "</div>\n",
       "</header>\n",
       "<div class=\"container-fluid page\">\n",
       "<div class=\"page_inner\">\n",
       "<ul class=\"breadcrumb\">\n",
       "<li>\n",
       "<a href=\"../../index.html\">Home</a>\n",
       "</li>\n",
       "<li>\n",
       "<a href=\"../category/books_1/index.html\">Books</a>\n",
       "</li>\n",
       "<li>\n",
       "<a href=\"../category/books/romance_8/index.html\">Romance</a>\n",
       "</li>\n",
       "<li class=\"active\">Black Dust</li>\n",
       "</ul>\n",
       "<div id=\"messages\">\n",
       "</div>\n",
       "<div class=\"content\">\n",
       "<div id=\"promotions\">\n",
       "</div>\n",
       "<div id=\"content_inner\">\n",
       "<article class=\"product_page\"><!-- Start of product page -->\n",
       "<div class=\"row\">\n",
       "<div class=\"col-sm-6\">\n",
       "<div class=\"carousel\" id=\"product_gallery\">\n",
       "<div class=\"thumbnail\">\n",
       "<div class=\"carousel-inner\">\n",
       "<div class=\"item active\">\n",
       "<img alt=\"Black Dust\" src=\"../../media/cache/a4/0a/a40af95beab828af1a4757ad1ee17da3.jpg\"/>\n",
       "</div>\n",
       "</div>\n",
       "</div>\n",
       "</div>\n",
       "</div>\n",
       "<div class=\"col-sm-6 product_main\">\n",
       "<h1>Black Dust</h1>\n",
       "<p class=\"price_color\">Â£34.53</p>\n",
       "<p class=\"instock availability\">\n",
       "<i class=\"icon-ok\"></i>\n",
       "    \n",
       "        In stock (19 available)\n",
       "    \n",
       "</p>\n",
       "<p class=\"star-rating Five\">\n",
       "<i class=\"icon-star\"></i>\n",
       "<i class=\"icon-star\"></i>\n",
       "<i class=\"icon-star\"></i>\n",
       "<i class=\"icon-star\"></i>\n",
       "<i class=\"icon-star\"></i>\n",
       "<!-- <small><a href=\"/catalogue/black-dust_976/reviews/\">\n",
       "        \n",
       "                \n",
       "                    0 customer reviews\n",
       "                \n",
       "        </a></small>\n",
       "         --> \n",
       "\n",
       "\n",
       "<!-- \n",
       "    <a id=\"write_review\" href=\"/catalogue/black-dust_976/reviews/add/#addreview\" class=\"btn btn-success btn-sm\">\n",
       "        Write a review\n",
       "    </a>\n",
       "\n",
       " --></p>\n",
       "<hr/>\n",
       "<div class=\"alert alert-warning\" role=\"alert\"><strong>Warning!</strong> This is a demo website for web scraping purposes. Prices and ratings here were randomly assigned and have no real meaning.</div>\n",
       "</div><!-- /col-sm-6 -->\n",
       "</div><!-- /row -->\n",
       "<div class=\"sub-header\" id=\"product_description\">\n",
       "<h2>Product Description</h2>\n",
       "</div>\n",
       "<p>No matter how busy he keeps himself, successful Broadway musician Tobias Spence canât outrun the memory of a tragic car crash from his past that claimed a friendâs life and permanently injured his former boyfriend, Emmett.Even after losing Tobias, Emmett Henderson made peace with that awful night, living in his Indiana hometown where he has become a revered choral director No matter how busy he keeps himself, successful Broadway musician Tobias Spence canât outrun the memory of a tragic car crash from his past that claimed a friendâs life and permanently injured his former boyfriend, Emmett.Even after losing Tobias, Emmett Henderson made peace with that awful night, living in his Indiana hometown where he has become a revered choral director. When his students are asked to perform in New York City, he decides to chance reconnecting with his former love, if for no other reason than to get a proper goodbye.When Emmett and Tobias finally meet 15 years after parting ways, it is clear to both of them that their feelings for each other have not changed. As they explore their renewed relationship, the two men face old hurts and the new challenges of a long-distance romance. Will Tobias lose his second chance at love to the ghosts he canât seem to put to rest? ...more</p>\n",
       "<div class=\"sub-header\">\n",
       "<h2>Product Information</h2>\n",
       "</div>\n",
       "<table class=\"table table-striped\">\n",
       "<tr>\n",
       "<th>UPC</th><td>00bfed9e18bb36f3</td>\n",
       "</tr>\n",
       "<tr>\n",
       "<th>Product Type</th><td>Books</td>\n",
       "</tr>\n",
       "<tr>\n",
       "<th>Price (excl. tax)</th><td>Â£34.53</td>\n",
       "</tr>\n",
       "<tr>\n",
       "<th>Price (incl. tax)</th><td>Â£34.53</td>\n",
       "</tr>\n",
       "<tr>\n",
       "<th>Tax</th><td>Â£0.00</td>\n",
       "</tr>\n",
       "<tr>\n",
       "<th>Availability</th>\n",
       "<td>In stock (19 available)</td>\n",
       "</tr>\n",
       "<tr>\n",
       "<th>Number of reviews</th>\n",
       "<td>0</td>\n",
       "</tr>\n",
       "</table>\n",
       "<section>\n",
       "<div class=\"sub-header\" id=\"reviews\">\n",
       "</div>\n",
       "</section>\n",
       "<div class=\"sub-header\">\n",
       "<h2>Products you recently viewed</h2>\n",
       "</div>\n",
       "<ul class=\"row\">\n",
       "<li class=\"col-xs-6 col-sm-4 col-md-3 col-lg-3\">\n",
       "<article class=\"product_pod\">\n",
       "<div class=\"image_container\">\n",
       "<a href=\"../chase-me-paris-nights-2_977/index.html\"><img alt=\"Chase Me (Paris Nights #2)\" class=\"thumbnail\" src=\"../../media/cache/9c/2e/9c2e0eb8866b8e3f3b768994fd3d1c1a.jpg\"/></a>\n",
       "</div>\n",
       "<p class=\"star-rating Five\">\n",
       "<i class=\"icon-star\"></i>\n",
       "<i class=\"icon-star\"></i>\n",
       "<i class=\"icon-star\"></i>\n",
       "<i class=\"icon-star\"></i>\n",
       "<i class=\"icon-star\"></i>\n",
       "</p>\n",
       "<h3><a href=\"../chase-me-paris-nights-2_977/index.html\" title=\"Chase Me (Paris Nights #2)\">Chase Me (Paris Nights ...</a></h3>\n",
       "<div class=\"product_price\">\n",
       "<p class=\"price_color\">Â£25.27</p>\n",
       "<p class=\"instock availability\">\n",
       "<i class=\"icon-ok\"></i>\n",
       "    \n",
       "        In stock\n",
       "    \n",
       "</p>\n",
       "<form>\n",
       "<button class=\"btn btn-primary btn-block\" data-loading-text=\"Adding...\" type=\"submit\">Add to basket</button>\n",
       "</form>\n",
       "</div>\n",
       "</article>\n",
       "</li>\n",
       "<li class=\"col-xs-6 col-sm-4 col-md-3 col-lg-3\">\n",
       "<article class=\"product_pod\">\n",
       "<div class=\"image_container\">\n",
       "<a href=\"../beyond-good-and-evil_6/index.html\"><img alt=\"Beyond Good and Evil\" class=\"thumbnail\" src=\"../../media/cache/ab/45/ab45f300aa15066ad1260d6f1398d03e.jpg\"/></a>\n",
       "</div>\n",
       "<p class=\"star-rating One\">\n",
       "<i class=\"icon-star\"></i>\n",
       "<i class=\"icon-star\"></i>\n",
       "<i class=\"icon-star\"></i>\n",
       "<i class=\"icon-star\"></i>\n",
       "<i class=\"icon-star\"></i>\n",
       "</p>\n",
       "<h3><a href=\"../beyond-good-and-evil_6/index.html\" title=\"Beyond Good and Evil\">Beyond Good and Evil</a></h3>\n",
       "<div class=\"product_price\">\n",
       "<p class=\"price_color\">Â£43.38</p>\n",
       "<p class=\"instock availability\">\n",
       "<i class=\"icon-ok\"></i>\n",
       "    \n",
       "        In stock\n",
       "    \n",
       "</p>\n",
       "<form>\n",
       "<button class=\"btn btn-primary btn-block\" data-loading-text=\"Adding...\" type=\"submit\">Add to basket</button>\n",
       "</form>\n",
       "</div>\n",
       "</article>\n",
       "</li>\n",
       "<li class=\"col-xs-6 col-sm-4 col-md-3 col-lg-3\">\n",
       "<article class=\"product_pod\">\n",
       "<div class=\"image_container\">\n",
       "<a href=\"../meditations_33/index.html\"><img alt=\"Meditations\" class=\"thumbnail\" src=\"../../media/cache/df/c9/dfc9ed72e963572d23233b3a8cb01676.jpg\"/></a>\n",
       "</div>\n",
       "<p class=\"star-rating Two\">\n",
       "<i class=\"icon-star\"></i>\n",
       "<i class=\"icon-star\"></i>\n",
       "<i class=\"icon-star\"></i>\n",
       "<i class=\"icon-star\"></i>\n",
       "<i class=\"icon-star\"></i>\n",
       "</p>\n",
       "<h3><a href=\"../meditations_33/index.html\" title=\"Meditations\">Meditations</a></h3>\n",
       "<div class=\"product_price\">\n",
       "<p class=\"price_color\">Â£25.89</p>\n",
       "<p class=\"instock availability\">\n",
       "<i class=\"icon-ok\"></i>\n",
       "    \n",
       "        In stock\n",
       "    \n",
       "</p>\n",
       "<form>\n",
       "<button class=\"btn btn-primary btn-block\" data-loading-text=\"Adding...\" type=\"submit\">Add to basket</button>\n",
       "</form>\n",
       "</div>\n",
       "</article>\n",
       "</li>\n",
       "<li class=\"col-xs-6 col-sm-4 col-md-3 col-lg-3\">\n",
       "<article class=\"product_pod\">\n",
       "<div class=\"image_container\">\n",
       "<a href=\"../the-nicomachean-ethics_75/index.html\"><img alt=\"The Nicomachean Ethics\" class=\"thumbnail\" src=\"../../media/cache/f0/aa/f0aa9ae0319b1d6e0706e6053020e696.jpg\"/></a>\n",
       "</div>\n",
       "<p class=\"star-rating One\">\n",
       "<i class=\"icon-star\"></i>\n",
       "<i class=\"icon-star\"></i>\n",
       "<i class=\"icon-star\"></i>\n",
       "<i class=\"icon-star\"></i>\n",
       "<i class=\"icon-star\"></i>\n",
       "</p>\n",
       "<h3><a href=\"../the-nicomachean-ethics_75/index.html\" title=\"The Nicomachean Ethics\">The Nicomachean Ethics</a></h3>\n",
       "<div class=\"product_price\">\n",
       "<p class=\"price_color\">Â£36.34</p>\n",
       "<p class=\"instock availability\">\n",
       "<i class=\"icon-ok\"></i>\n",
       "    \n",
       "        In stock\n",
       "    \n",
       "</p>\n",
       "<form>\n",
       "<button class=\"btn btn-primary btn-block\" data-loading-text=\"Adding...\" type=\"submit\">Add to basket</button>\n",
       "</form>\n",
       "</div>\n",
       "</article>\n",
       "</li>\n",
       "<li class=\"col-xs-6 col-sm-4 col-md-3 col-lg-3\">\n",
       "<article class=\"product_pod\">\n",
       "<div class=\"image_container\">\n",
       "<a href=\"../run-spot-run-the-ethics-of-keeping-pets_106/index.html\"><img alt=\"Run, Spot, Run: The Ethics of Keeping Pets\" class=\"thumbnail\" src=\"../../media/cache/91/e6/91e6190dcdd7d6cdeb94a82b60917ec4.jpg\"/></a>\n",
       "</div>\n",
       "<p class=\"star-rating One\">\n",
       "<i class=\"icon-star\"></i>\n",
       "<i class=\"icon-star\"></i>\n",
       "<i class=\"icon-star\"></i>\n",
       "<i class=\"icon-star\"></i>\n",
       "<i class=\"icon-star\"></i>\n",
       "</p>\n",
       "<h3><a href=\"../run-spot-run-the-ethics-of-keeping-pets_106/index.html\" title=\"Run, Spot, Run: The Ethics of Keeping Pets\">Run, Spot, Run: The ...</a></h3>\n",
       "<div class=\"product_price\">\n",
       "<p class=\"price_color\">Â£20.02</p>\n",
       "<p class=\"instock availability\">\n",
       "<i class=\"icon-ok\"></i>\n",
       "    \n",
       "        In stock\n",
       "    \n",
       "</p>\n",
       "<form>\n",
       "<button class=\"btn btn-primary btn-block\" data-loading-text=\"Adding...\" type=\"submit\">Add to basket</button>\n",
       "</form>\n",
       "</div>\n",
       "</article>\n",
       "</li>\n",
       "<li class=\"col-xs-6 col-sm-4 col-md-3 col-lg-3\">\n",
       "<article class=\"product_pod\">\n",
       "<div class=\"image_container\">\n",
       "<a href=\"../critique-of-pure-reason_366/index.html\"><img alt=\"Critique of Pure Reason\" class=\"thumbnail\" src=\"../../media/cache/12/6e/126ef8f6473b81808ebbb9cff155e883.jpg\"/></a>\n",
       "</div>\n",
       "<p class=\"star-rating One\">\n",
       "<i class=\"icon-star\"></i>\n",
       "<i class=\"icon-star\"></i>\n",
       "<i class=\"icon-star\"></i>\n",
       "<i class=\"icon-star\"></i>\n",
       "<i class=\"icon-star\"></i>\n",
       "</p>\n",
       "<h3><a href=\"../critique-of-pure-reason_366/index.html\" title=\"Critique of Pure Reason\">Critique of Pure Reason</a></h3>\n",
       "<div class=\"product_price\">\n",
       "<p class=\"price_color\">Â£20.75</p>\n",
       "<p class=\"instock availability\">\n",
       "<i class=\"icon-ok\"></i>\n",
       "    \n",
       "        In stock\n",
       "    \n",
       "</p>\n",
       "<form>\n",
       "<button class=\"btn btn-primary btn-block\" data-loading-text=\"Adding...\" type=\"submit\">Add to basket</button>\n",
       "</form>\n",
       "</div>\n",
       "</article>\n",
       "</li>\n",
       "</ul>\n",
       "</article><!-- End of product page -->\n",
       "</div>\n",
       "</div>\n",
       "</div>\n",
       "</div>\n",
       "<footer class=\"footer container-fluid\">\n",
       "</footer>\n",
       "<!-- jQuery -->\n",
       "<script src=\"http://ajax.googleapis.com/ajax/libs/jquery/1.9.1/jquery.min.js\"></script>\n",
       "<script>window.jQuery || document.write('<script src=\"../../static/oscar/js/jquery/jquery-1.9.1.min.js\"><\\/script>')</script>\n",
       "<!-- Twitter Bootstrap -->\n",
       "<script src=\"../../static/oscar/js/bootstrap3/bootstrap.min.js\" type=\"text/javascript\"></script>\n",
       "<!-- Oscar -->\n",
       "<script charset=\"utf-8\" src=\"../../static/oscar/js/oscar/ui.js\" type=\"text/javascript\"></script>\n",
       "<script charset=\"utf-8\" src=\"../../static/oscar/js/bootstrap-datetimepicker/bootstrap-datetimepicker.js\" type=\"text/javascript\"></script>\n",
       "<script charset=\"utf-8\" src=\"../../static/oscar/js/bootstrap-datetimepicker/locales/bootstrap-datetimepicker.all.js\" type=\"text/javascript\"></script>\n",
       "<script type=\"text/javascript\">\n",
       "            $(function() {\n",
       "                \n",
       "    \n",
       "    oscar.init();\n",
       "\n",
       "            });\n",
       "        </script>\n",
       "<!-- Version: N/A -->\n",
       "</body>\n",
       "</html>"
      ]
     },
     "execution_count": 329,
     "metadata": {},
     "output_type": "execute_result"
    }
   ],
   "source": [
    "soup"
   ]
  },
  {
   "cell_type": "markdown",
   "metadata": {},
   "source": [
    "This gave you the entire source code of the website - not so useful as a starting point, so let's zoom in on the what is labeled in the source as the \"Start of product page\""
   ]
  },
  {
   "cell_type": "code",
   "execution_count": 330,
   "metadata": {},
   "outputs": [
    {
     "data": {
      "text/plain": [
       "<div id=\"content_inner\">\n",
       "<article class=\"product_page\"><!-- Start of product page -->\n",
       "<div class=\"row\">\n",
       "<div class=\"col-sm-6\">\n",
       "<div class=\"carousel\" id=\"product_gallery\">\n",
       "<div class=\"thumbnail\">\n",
       "<div class=\"carousel-inner\">\n",
       "<div class=\"item active\">\n",
       "<img alt=\"Black Dust\" src=\"../../media/cache/a4/0a/a40af95beab828af1a4757ad1ee17da3.jpg\"/>\n",
       "</div>\n",
       "</div>\n",
       "</div>\n",
       "</div>\n",
       "</div>\n",
       "<div class=\"col-sm-6 product_main\">\n",
       "<h1>Black Dust</h1>\n",
       "<p class=\"price_color\">Â£34.53</p>\n",
       "<p class=\"instock availability\">\n",
       "<i class=\"icon-ok\"></i>\n",
       "    \n",
       "        In stock (19 available)\n",
       "    \n",
       "</p>\n",
       "<p class=\"star-rating Five\">\n",
       "<i class=\"icon-star\"></i>\n",
       "<i class=\"icon-star\"></i>\n",
       "<i class=\"icon-star\"></i>\n",
       "<i class=\"icon-star\"></i>\n",
       "<i class=\"icon-star\"></i>\n",
       "<!-- <small><a href=\"/catalogue/black-dust_976/reviews/\">\n",
       "        \n",
       "                \n",
       "                    0 customer reviews\n",
       "                \n",
       "        </a></small>\n",
       "         --> \n",
       "\n",
       "\n",
       "<!-- \n",
       "    <a id=\"write_review\" href=\"/catalogue/black-dust_976/reviews/add/#addreview\" class=\"btn btn-success btn-sm\">\n",
       "        Write a review\n",
       "    </a>\n",
       "\n",
       " --></p>\n",
       "<hr/>\n",
       "<div class=\"alert alert-warning\" role=\"alert\"><strong>Warning!</strong> This is a demo website for web scraping purposes. Prices and ratings here were randomly assigned and have no real meaning.</div>\n",
       "</div><!-- /col-sm-6 -->\n",
       "</div><!-- /row -->\n",
       "<div class=\"sub-header\" id=\"product_description\">\n",
       "<h2>Product Description</h2>\n",
       "</div>\n",
       "<p>No matter how busy he keeps himself, successful Broadway musician Tobias Spence canât outrun the memory of a tragic car crash from his past that claimed a friendâs life and permanently injured his former boyfriend, Emmett.Even after losing Tobias, Emmett Henderson made peace with that awful night, living in his Indiana hometown where he has become a revered choral director No matter how busy he keeps himself, successful Broadway musician Tobias Spence canât outrun the memory of a tragic car crash from his past that claimed a friendâs life and permanently injured his former boyfriend, Emmett.Even after losing Tobias, Emmett Henderson made peace with that awful night, living in his Indiana hometown where he has become a revered choral director. When his students are asked to perform in New York City, he decides to chance reconnecting with his former love, if for no other reason than to get a proper goodbye.When Emmett and Tobias finally meet 15 years after parting ways, it is clear to both of them that their feelings for each other have not changed. As they explore their renewed relationship, the two men face old hurts and the new challenges of a long-distance romance. Will Tobias lose his second chance at love to the ghosts he canât seem to put to rest? ...more</p>\n",
       "<div class=\"sub-header\">\n",
       "<h2>Product Information</h2>\n",
       "</div>\n",
       "<table class=\"table table-striped\">\n",
       "<tr>\n",
       "<th>UPC</th><td>00bfed9e18bb36f3</td>\n",
       "</tr>\n",
       "<tr>\n",
       "<th>Product Type</th><td>Books</td>\n",
       "</tr>\n",
       "<tr>\n",
       "<th>Price (excl. tax)</th><td>Â£34.53</td>\n",
       "</tr>\n",
       "<tr>\n",
       "<th>Price (incl. tax)</th><td>Â£34.53</td>\n",
       "</tr>\n",
       "<tr>\n",
       "<th>Tax</th><td>Â£0.00</td>\n",
       "</tr>\n",
       "<tr>\n",
       "<th>Availability</th>\n",
       "<td>In stock (19 available)</td>\n",
       "</tr>\n",
       "<tr>\n",
       "<th>Number of reviews</th>\n",
       "<td>0</td>\n",
       "</tr>\n",
       "</table>\n",
       "<section>\n",
       "<div class=\"sub-header\" id=\"reviews\">\n",
       "</div>\n",
       "</section>\n",
       "<div class=\"sub-header\">\n",
       "<h2>Products you recently viewed</h2>\n",
       "</div>\n",
       "<ul class=\"row\">\n",
       "<li class=\"col-xs-6 col-sm-4 col-md-3 col-lg-3\">\n",
       "<article class=\"product_pod\">\n",
       "<div class=\"image_container\">\n",
       "<a href=\"../chase-me-paris-nights-2_977/index.html\"><img alt=\"Chase Me (Paris Nights #2)\" class=\"thumbnail\" src=\"../../media/cache/9c/2e/9c2e0eb8866b8e3f3b768994fd3d1c1a.jpg\"/></a>\n",
       "</div>\n",
       "<p class=\"star-rating Five\">\n",
       "<i class=\"icon-star\"></i>\n",
       "<i class=\"icon-star\"></i>\n",
       "<i class=\"icon-star\"></i>\n",
       "<i class=\"icon-star\"></i>\n",
       "<i class=\"icon-star\"></i>\n",
       "</p>\n",
       "<h3><a href=\"../chase-me-paris-nights-2_977/index.html\" title=\"Chase Me (Paris Nights #2)\">Chase Me (Paris Nights ...</a></h3>\n",
       "<div class=\"product_price\">\n",
       "<p class=\"price_color\">Â£25.27</p>\n",
       "<p class=\"instock availability\">\n",
       "<i class=\"icon-ok\"></i>\n",
       "    \n",
       "        In stock\n",
       "    \n",
       "</p>\n",
       "<form>\n",
       "<button class=\"btn btn-primary btn-block\" data-loading-text=\"Adding...\" type=\"submit\">Add to basket</button>\n",
       "</form>\n",
       "</div>\n",
       "</article>\n",
       "</li>\n",
       "<li class=\"col-xs-6 col-sm-4 col-md-3 col-lg-3\">\n",
       "<article class=\"product_pod\">\n",
       "<div class=\"image_container\">\n",
       "<a href=\"../beyond-good-and-evil_6/index.html\"><img alt=\"Beyond Good and Evil\" class=\"thumbnail\" src=\"../../media/cache/ab/45/ab45f300aa15066ad1260d6f1398d03e.jpg\"/></a>\n",
       "</div>\n",
       "<p class=\"star-rating One\">\n",
       "<i class=\"icon-star\"></i>\n",
       "<i class=\"icon-star\"></i>\n",
       "<i class=\"icon-star\"></i>\n",
       "<i class=\"icon-star\"></i>\n",
       "<i class=\"icon-star\"></i>\n",
       "</p>\n",
       "<h3><a href=\"../beyond-good-and-evil_6/index.html\" title=\"Beyond Good and Evil\">Beyond Good and Evil</a></h3>\n",
       "<div class=\"product_price\">\n",
       "<p class=\"price_color\">Â£43.38</p>\n",
       "<p class=\"instock availability\">\n",
       "<i class=\"icon-ok\"></i>\n",
       "    \n",
       "        In stock\n",
       "    \n",
       "</p>\n",
       "<form>\n",
       "<button class=\"btn btn-primary btn-block\" data-loading-text=\"Adding...\" type=\"submit\">Add to basket</button>\n",
       "</form>\n",
       "</div>\n",
       "</article>\n",
       "</li>\n",
       "<li class=\"col-xs-6 col-sm-4 col-md-3 col-lg-3\">\n",
       "<article class=\"product_pod\">\n",
       "<div class=\"image_container\">\n",
       "<a href=\"../meditations_33/index.html\"><img alt=\"Meditations\" class=\"thumbnail\" src=\"../../media/cache/df/c9/dfc9ed72e963572d23233b3a8cb01676.jpg\"/></a>\n",
       "</div>\n",
       "<p class=\"star-rating Two\">\n",
       "<i class=\"icon-star\"></i>\n",
       "<i class=\"icon-star\"></i>\n",
       "<i class=\"icon-star\"></i>\n",
       "<i class=\"icon-star\"></i>\n",
       "<i class=\"icon-star\"></i>\n",
       "</p>\n",
       "<h3><a href=\"../meditations_33/index.html\" title=\"Meditations\">Meditations</a></h3>\n",
       "<div class=\"product_price\">\n",
       "<p class=\"price_color\">Â£25.89</p>\n",
       "<p class=\"instock availability\">\n",
       "<i class=\"icon-ok\"></i>\n",
       "    \n",
       "        In stock\n",
       "    \n",
       "</p>\n",
       "<form>\n",
       "<button class=\"btn btn-primary btn-block\" data-loading-text=\"Adding...\" type=\"submit\">Add to basket</button>\n",
       "</form>\n",
       "</div>\n",
       "</article>\n",
       "</li>\n",
       "<li class=\"col-xs-6 col-sm-4 col-md-3 col-lg-3\">\n",
       "<article class=\"product_pod\">\n",
       "<div class=\"image_container\">\n",
       "<a href=\"../the-nicomachean-ethics_75/index.html\"><img alt=\"The Nicomachean Ethics\" class=\"thumbnail\" src=\"../../media/cache/f0/aa/f0aa9ae0319b1d6e0706e6053020e696.jpg\"/></a>\n",
       "</div>\n",
       "<p class=\"star-rating One\">\n",
       "<i class=\"icon-star\"></i>\n",
       "<i class=\"icon-star\"></i>\n",
       "<i class=\"icon-star\"></i>\n",
       "<i class=\"icon-star\"></i>\n",
       "<i class=\"icon-star\"></i>\n",
       "</p>\n",
       "<h3><a href=\"../the-nicomachean-ethics_75/index.html\" title=\"The Nicomachean Ethics\">The Nicomachean Ethics</a></h3>\n",
       "<div class=\"product_price\">\n",
       "<p class=\"price_color\">Â£36.34</p>\n",
       "<p class=\"instock availability\">\n",
       "<i class=\"icon-ok\"></i>\n",
       "    \n",
       "        In stock\n",
       "    \n",
       "</p>\n",
       "<form>\n",
       "<button class=\"btn btn-primary btn-block\" data-loading-text=\"Adding...\" type=\"submit\">Add to basket</button>\n",
       "</form>\n",
       "</div>\n",
       "</article>\n",
       "</li>\n",
       "<li class=\"col-xs-6 col-sm-4 col-md-3 col-lg-3\">\n",
       "<article class=\"product_pod\">\n",
       "<div class=\"image_container\">\n",
       "<a href=\"../run-spot-run-the-ethics-of-keeping-pets_106/index.html\"><img alt=\"Run, Spot, Run: The Ethics of Keeping Pets\" class=\"thumbnail\" src=\"../../media/cache/91/e6/91e6190dcdd7d6cdeb94a82b60917ec4.jpg\"/></a>\n",
       "</div>\n",
       "<p class=\"star-rating One\">\n",
       "<i class=\"icon-star\"></i>\n",
       "<i class=\"icon-star\"></i>\n",
       "<i class=\"icon-star\"></i>\n",
       "<i class=\"icon-star\"></i>\n",
       "<i class=\"icon-star\"></i>\n",
       "</p>\n",
       "<h3><a href=\"../run-spot-run-the-ethics-of-keeping-pets_106/index.html\" title=\"Run, Spot, Run: The Ethics of Keeping Pets\">Run, Spot, Run: The ...</a></h3>\n",
       "<div class=\"product_price\">\n",
       "<p class=\"price_color\">Â£20.02</p>\n",
       "<p class=\"instock availability\">\n",
       "<i class=\"icon-ok\"></i>\n",
       "    \n",
       "        In stock\n",
       "    \n",
       "</p>\n",
       "<form>\n",
       "<button class=\"btn btn-primary btn-block\" data-loading-text=\"Adding...\" type=\"submit\">Add to basket</button>\n",
       "</form>\n",
       "</div>\n",
       "</article>\n",
       "</li>\n",
       "<li class=\"col-xs-6 col-sm-4 col-md-3 col-lg-3\">\n",
       "<article class=\"product_pod\">\n",
       "<div class=\"image_container\">\n",
       "<a href=\"../critique-of-pure-reason_366/index.html\"><img alt=\"Critique of Pure Reason\" class=\"thumbnail\" src=\"../../media/cache/12/6e/126ef8f6473b81808ebbb9cff155e883.jpg\"/></a>\n",
       "</div>\n",
       "<p class=\"star-rating One\">\n",
       "<i class=\"icon-star\"></i>\n",
       "<i class=\"icon-star\"></i>\n",
       "<i class=\"icon-star\"></i>\n",
       "<i class=\"icon-star\"></i>\n",
       "<i class=\"icon-star\"></i>\n",
       "</p>\n",
       "<h3><a href=\"../critique-of-pure-reason_366/index.html\" title=\"Critique of Pure Reason\">Critique of Pure Reason</a></h3>\n",
       "<div class=\"product_price\">\n",
       "<p class=\"price_color\">Â£20.75</p>\n",
       "<p class=\"instock availability\">\n",
       "<i class=\"icon-ok\"></i>\n",
       "    \n",
       "        In stock\n",
       "    \n",
       "</p>\n",
       "<form>\n",
       "<button class=\"btn btn-primary btn-block\" data-loading-text=\"Adding...\" type=\"submit\">Add to basket</button>\n",
       "</form>\n",
       "</div>\n",
       "</article>\n",
       "</li>\n",
       "</ul>\n",
       "</article><!-- End of product page -->\n",
       "</div>"
      ]
     },
     "execution_count": 330,
     "metadata": {},
     "output_type": "execute_result"
    }
   ],
   "source": [
    "soup.find(id=\"content_inner\")"
   ]
  },
  {
   "cell_type": "markdown",
   "metadata": {},
   "source": [
    "This one already looks better, scrolling down just a little bit gives us already the title and price of the product. Can you find this information also in Chrome's Inspector Tool?\n",
    "\n",
    "Let's proceed by zooming in even more..."
   ]
  },
  {
   "cell_type": "code",
   "execution_count": 331,
   "metadata": {},
   "outputs": [
    {
     "data": {
      "text/plain": [
       "[<p class=\"price_color\">Â£34.53</p>,\n",
       " <p class=\"instock availability\">\n",
       " <i class=\"icon-ok\"></i>\n",
       "     \n",
       "         In stock (19 available)\n",
       "     \n",
       " </p>,\n",
       " <p class=\"star-rating Five\">\n",
       " <i class=\"icon-star\"></i>\n",
       " <i class=\"icon-star\"></i>\n",
       " <i class=\"icon-star\"></i>\n",
       " <i class=\"icon-star\"></i>\n",
       " <i class=\"icon-star\"></i>\n",
       " <!-- <small><a href=\"/catalogue/black-dust_976/reviews/\">\n",
       "         \n",
       "                 \n",
       "                     0 customer reviews\n",
       "                 \n",
       "         </a></small>\n",
       "          --> \n",
       " \n",
       " \n",
       " <!-- \n",
       "     <a id=\"write_review\" href=\"/catalogue/black-dust_976/reviews/add/#addreview\" class=\"btn btn-success btn-sm\">\n",
       "         Write a review\n",
       "     </a>\n",
       " \n",
       "  --></p>,\n",
       " <p>No matter how busy he keeps himself, successful Broadway musician Tobias Spence canât outrun the memory of a tragic car crash from his past that claimed a friendâs life and permanently injured his former boyfriend, Emmett.Even after losing Tobias, Emmett Henderson made peace with that awful night, living in his Indiana hometown where he has become a revered choral director No matter how busy he keeps himself, successful Broadway musician Tobias Spence canât outrun the memory of a tragic car crash from his past that claimed a friendâs life and permanently injured his former boyfriend, Emmett.Even after losing Tobias, Emmett Henderson made peace with that awful night, living in his Indiana hometown where he has become a revered choral director. When his students are asked to perform in New York City, he decides to chance reconnecting with his former love, if for no other reason than to get a proper goodbye.When Emmett and Tobias finally meet 15 years after parting ways, it is clear to both of them that their feelings for each other have not changed. As they explore their renewed relationship, the two men face old hurts and the new challenges of a long-distance romance. Will Tobias lose his second chance at love to the ghosts he canât seem to put to rest? ...more</p>,\n",
       " <p class=\"star-rating Five\">\n",
       " <i class=\"icon-star\"></i>\n",
       " <i class=\"icon-star\"></i>\n",
       " <i class=\"icon-star\"></i>\n",
       " <i class=\"icon-star\"></i>\n",
       " <i class=\"icon-star\"></i>\n",
       " </p>,\n",
       " <p class=\"price_color\">Â£25.27</p>,\n",
       " <p class=\"instock availability\">\n",
       " <i class=\"icon-ok\"></i>\n",
       "     \n",
       "         In stock\n",
       "     \n",
       " </p>,\n",
       " <p class=\"star-rating One\">\n",
       " <i class=\"icon-star\"></i>\n",
       " <i class=\"icon-star\"></i>\n",
       " <i class=\"icon-star\"></i>\n",
       " <i class=\"icon-star\"></i>\n",
       " <i class=\"icon-star\"></i>\n",
       " </p>,\n",
       " <p class=\"price_color\">Â£43.38</p>,\n",
       " <p class=\"instock availability\">\n",
       " <i class=\"icon-ok\"></i>\n",
       "     \n",
       "         In stock\n",
       "     \n",
       " </p>,\n",
       " <p class=\"star-rating Two\">\n",
       " <i class=\"icon-star\"></i>\n",
       " <i class=\"icon-star\"></i>\n",
       " <i class=\"icon-star\"></i>\n",
       " <i class=\"icon-star\"></i>\n",
       " <i class=\"icon-star\"></i>\n",
       " </p>,\n",
       " <p class=\"price_color\">Â£25.89</p>,\n",
       " <p class=\"instock availability\">\n",
       " <i class=\"icon-ok\"></i>\n",
       "     \n",
       "         In stock\n",
       "     \n",
       " </p>,\n",
       " <p class=\"star-rating One\">\n",
       " <i class=\"icon-star\"></i>\n",
       " <i class=\"icon-star\"></i>\n",
       " <i class=\"icon-star\"></i>\n",
       " <i class=\"icon-star\"></i>\n",
       " <i class=\"icon-star\"></i>\n",
       " </p>,\n",
       " <p class=\"price_color\">Â£36.34</p>,\n",
       " <p class=\"instock availability\">\n",
       " <i class=\"icon-ok\"></i>\n",
       "     \n",
       "         In stock\n",
       "     \n",
       " </p>,\n",
       " <p class=\"star-rating One\">\n",
       " <i class=\"icon-star\"></i>\n",
       " <i class=\"icon-star\"></i>\n",
       " <i class=\"icon-star\"></i>\n",
       " <i class=\"icon-star\"></i>\n",
       " <i class=\"icon-star\"></i>\n",
       " </p>,\n",
       " <p class=\"price_color\">Â£20.02</p>,\n",
       " <p class=\"instock availability\">\n",
       " <i class=\"icon-ok\"></i>\n",
       "     \n",
       "         In stock\n",
       "     \n",
       " </p>,\n",
       " <p class=\"star-rating One\">\n",
       " <i class=\"icon-star\"></i>\n",
       " <i class=\"icon-star\"></i>\n",
       " <i class=\"icon-star\"></i>\n",
       " <i class=\"icon-star\"></i>\n",
       " <i class=\"icon-star\"></i>\n",
       " </p>,\n",
       " <p class=\"price_color\">Â£20.75</p>,\n",
       " <p class=\"instock availability\">\n",
       " <i class=\"icon-ok\"></i>\n",
       "     \n",
       "         In stock\n",
       "     \n",
       " </p>]"
      ]
     },
     "execution_count": 331,
     "metadata": {},
     "output_type": "execute_result"
    }
   ],
   "source": [
    "soup.find(id=\"content_inner\").find_all(\"p\")"
   ]
  },
  {
   "cell_type": "markdown",
   "metadata": {},
   "source": [
    "We've now filtered for all content items with tag `p`, and can spot the target class: \"star-rating\"! So let's go there..."
   ]
  },
  {
   "cell_type": "code",
   "execution_count": 332,
   "metadata": {},
   "outputs": [
    {
     "data": {
      "text/plain": [
       "[<p class=\"star-rating Five\">\n",
       " <i class=\"icon-star\"></i>\n",
       " <i class=\"icon-star\"></i>\n",
       " <i class=\"icon-star\"></i>\n",
       " <i class=\"icon-star\"></i>\n",
       " <i class=\"icon-star\"></i>\n",
       " <!-- <small><a href=\"/catalogue/black-dust_976/reviews/\">\n",
       "         \n",
       "                 \n",
       "                     0 customer reviews\n",
       "                 \n",
       "         </a></small>\n",
       "          --> \n",
       " \n",
       " \n",
       " <!-- \n",
       "     <a id=\"write_review\" href=\"/catalogue/black-dust_976/reviews/add/#addreview\" class=\"btn btn-success btn-sm\">\n",
       "         Write a review\n",
       "     </a>\n",
       " \n",
       "  --></p>,\n",
       " <p class=\"star-rating Five\">\n",
       " <i class=\"icon-star\"></i>\n",
       " <i class=\"icon-star\"></i>\n",
       " <i class=\"icon-star\"></i>\n",
       " <i class=\"icon-star\"></i>\n",
       " <i class=\"icon-star\"></i>\n",
       " </p>,\n",
       " <p class=\"star-rating One\">\n",
       " <i class=\"icon-star\"></i>\n",
       " <i class=\"icon-star\"></i>\n",
       " <i class=\"icon-star\"></i>\n",
       " <i class=\"icon-star\"></i>\n",
       " <i class=\"icon-star\"></i>\n",
       " </p>,\n",
       " <p class=\"star-rating Two\">\n",
       " <i class=\"icon-star\"></i>\n",
       " <i class=\"icon-star\"></i>\n",
       " <i class=\"icon-star\"></i>\n",
       " <i class=\"icon-star\"></i>\n",
       " <i class=\"icon-star\"></i>\n",
       " </p>,\n",
       " <p class=\"star-rating One\">\n",
       " <i class=\"icon-star\"></i>\n",
       " <i class=\"icon-star\"></i>\n",
       " <i class=\"icon-star\"></i>\n",
       " <i class=\"icon-star\"></i>\n",
       " <i class=\"icon-star\"></i>\n",
       " </p>,\n",
       " <p class=\"star-rating One\">\n",
       " <i class=\"icon-star\"></i>\n",
       " <i class=\"icon-star\"></i>\n",
       " <i class=\"icon-star\"></i>\n",
       " <i class=\"icon-star\"></i>\n",
       " <i class=\"icon-star\"></i>\n",
       " </p>,\n",
       " <p class=\"star-rating One\">\n",
       " <i class=\"icon-star\"></i>\n",
       " <i class=\"icon-star\"></i>\n",
       " <i class=\"icon-star\"></i>\n",
       " <i class=\"icon-star\"></i>\n",
       " <i class=\"icon-star\"></i>\n",
       " </p>]"
      ]
     },
     "execution_count": 332,
     "metadata": {},
     "output_type": "execute_result"
    }
   ],
   "source": [
    "soup.find(id=\"content_inner\").find_all(\"p\", class_ = \"star-rating\")"
   ]
  },
  {
   "cell_type": "markdown",
   "metadata": {},
   "source": [
    "Wow - so many star ratings! The list contains the star rating of the product (overall), and the reviewer's individual star rankings. Let's just extract the first star rating for now."
   ]
  },
  {
   "cell_type": "code",
   "execution_count": 333,
   "metadata": {},
   "outputs": [
    {
     "data": {
      "text/plain": [
       "<p class=\"star-rating Five\">\n",
       "<i class=\"icon-star\"></i>\n",
       "<i class=\"icon-star\"></i>\n",
       "<i class=\"icon-star\"></i>\n",
       "<i class=\"icon-star\"></i>\n",
       "<i class=\"icon-star\"></i>\n",
       "<!-- <small><a href=\"/catalogue/black-dust_976/reviews/\">\n",
       "        \n",
       "                \n",
       "                    0 customer reviews\n",
       "                \n",
       "        </a></small>\n",
       "         --> \n",
       "\n",
       "\n",
       "<!-- \n",
       "    <a id=\"write_review\" href=\"/catalogue/black-dust_976/reviews/add/#addreview\" class=\"btn btn-success btn-sm\">\n",
       "        Write a review\n",
       "    </a>\n",
       "\n",
       " --></p>"
      ]
     },
     "execution_count": 333,
     "metadata": {},
     "output_type": "execute_result"
    }
   ],
   "source": [
    "soup.find(id=\"content_inner\").find(\"p\", class_ = \"star-rating\")"
   ]
  },
  {
   "cell_type": "markdown",
   "metadata": {},
   "source": [
    "Much better. But... where can we see the number of stars? It's in the class name (\"star-rating Five\"), but we can also just count the number of \"icon-star\" classes in the code above)."
   ]
  },
  {
   "cell_type": "code",
   "execution_count": 334,
   "metadata": {},
   "outputs": [
    {
     "data": {
      "text/plain": [
       "[<i class=\"icon-star\"></i>,\n",
       " <i class=\"icon-star\"></i>,\n",
       " <i class=\"icon-star\"></i>,\n",
       " <i class=\"icon-star\"></i>,\n",
       " <i class=\"icon-star\"></i>]"
      ]
     },
     "execution_count": 334,
     "metadata": {},
     "output_type": "execute_result"
    }
   ],
   "source": [
    "soup.find(id=\"content_inner\").find(\"p\", class_ = \"star-rating\").find_all(class_ = \"icon-star\")"
   ]
  },
  {
   "cell_type": "markdown",
   "metadata": {},
   "source": [
    "The last thing to do is to count how many items are in that class, by using the `len` function."
   ]
  },
  {
   "cell_type": "code",
   "execution_count": 335,
   "metadata": {},
   "outputs": [
    {
     "data": {
      "text/plain": [
       "5"
      ]
     },
     "execution_count": 335,
     "metadata": {},
     "output_type": "execute_result"
    }
   ],
   "source": [
    "len(soup.find(id=\"content_inner\").find(\"p\", class_ = \"star-rating\").find_all(class_ = \"icon-star\"))"
   ]
  },
  {
   "cell_type": "markdown",
   "metadata": {},
   "source": [
    "What a journey! We hope you enjoyed this little exploration activity, and are ready for the next exercisese."
   ]
  },
  {
   "cell_type": "markdown",
   "metadata": {},
   "source": [
    "#### Exercise 9\n",
    "1. Please complete the function below to extract the product description for the first few books in `book_list`. 2. Run the function and inspect the output. If you look carefully, you may spot `tÃ©gÃ©` symbols throughout the product description. Look up the original text on the book pages and compare it side-by-side with the output below."
   ]
  },
  {
   "cell_type": "code",
   "execution_count": null,
   "metadata": {},
   "outputs": [],
   "source": [
    "def get_book_description(books):\n",
    "    book_descriptions = []\n",
    "\n",
    "    for book in books: \n",
    "        page_url = book[#####]\n",
    "\n",
    "        res = requests.get(########)\n",
    "        soup = BeautifulSoup(res.text, \"html.parser\")\n",
    "\n",
    "        # tip: look at the Google Inspector screenshot below \n",
    "        description = soup.find(id=\"content_inner\").find_all(\"p\")#[3].get_text()\n",
    "        title = soup.find(id=\"content_inner\").find(###)['alt']\n",
    "        book_descriptions.append({'url': page_url,\n",
    "                                  'title': title,\n",
    "                                  'description': description})\n",
    "\n",
    "    return book_descriptions\n",
    "\n",
    "book_descriptions = get_book_description(book_list[0:5])\n",
    "book_descriptions"
   ]
  },
  {
   "cell_type": "markdown",
   "metadata": {},
   "source": [
    "#### Solutions"
   ]
  },
  {
   "cell_type": "code",
   "execution_count": 369,
   "metadata": {},
   "outputs": [
    {
     "data": {
      "text/plain": [
       "[{'url': 'https://books.toscrape.com/catalogue/a-light-in-the-attic_1000/index.html',\n",
       "  'title': 'A Light in the Attic',\n",
       "  'description': \"It's hard to imagine a world without A Light in the Attic. This now-classic collection of poetry and drawings from Shel Silverstein celebrates its 20th anniversary with this special edition. Silverstein's humorous and creative verse can amuse the dowdiest of readers. Lemon-faced adults and fidgety kids sit still and read these rhythmic words and laugh and smile and love th It's hard to imagine a world without A Light in the Attic. This now-classic collection of poetry and drawings from Shel Silverstein celebrates its 20th anniversary with this special edition. Silverstein's humorous and creative verse can amuse the dowdiest of readers. Lemon-faced adults and fidgety kids sit still and read these rhythmic words and laugh and smile and love that Silverstein. Need proof of his genius? RockabyeRockabye baby, in the treetopDon't you know a treetopIs no safe place to rock?And who put you up there,And your cradle, too?Baby, I think someone down here'sGot it in for you. Shel, you never sounded so good. ...more\"},\n",
       " {'url': 'https://books.toscrape.com/catalogue/tipping-the-velvet_999/index.html',\n",
       "  'title': 'Tipping the Velvet',\n",
       "  'description': '\"Erotic and absorbing...Written with starling power.\"--\"The New York Times Book Review \" Nan King, an oyster girl, is captivated by the music hall phenomenon Kitty Butler, a male impersonator extraordinaire treading the boards in Canterbury. Through a friend at the box office, Nan manages to visit all her shows and finally meet her heroine. Soon after, she becomes Kitty\\'s \"Erotic and absorbing...Written with starling power.\"--\"The New York Times Book Review \" Nan King, an oyster girl, is captivated by the music hall phenomenon Kitty Butler, a male impersonator extraordinaire treading the boards in Canterbury. Through a friend at the box office, Nan manages to visit all her shows and finally meet her heroine. Soon after, she becomes Kitty\\'s dresser and the two head for the bright lights of Leicester Square where they begin a glittering career as music-hall stars in an all-singing and dancing double act. At the same time, behind closed doors, they admit their attraction to each other and their affair begins. ...more'},\n",
       " {'url': 'https://books.toscrape.com/catalogue/soumission_998/index.html',\n",
       "  'title': 'Soumission',\n",
       "  'description': 'Dans une France assez proche de la nÃ´tre, un homme sâ\\x80\\x99engage dans la carriÃ¨re universitaire. Peu motivÃ© par lâ\\x80\\x99enseignement, il sâ\\x80\\x99attend Ã\\xa0 une vie ennuyeuse mais calme, protÃ©gÃ©e des grands drames historiques. Cependant les forces en jeu dans le pays ont fissurÃ© le systÃ¨me politique jusquâ\\x80\\x99Ã\\xa0 provoquer son effondrement. Cette implosion sans soubresauts, sans vraie rÃ©volution, s Dans une France assez proche de la nÃ´tre, un homme sâ\\x80\\x99engage dans la carriÃ¨re universitaire. Peu motivÃ© par lâ\\x80\\x99enseignement, il sâ\\x80\\x99attend Ã\\xa0 une vie ennuyeuse mais calme, protÃ©gÃ©e des grands drames historiques. Cependant les forces en jeu dans le pays ont fissurÃ© le systÃ¨me politique jusquâ\\x80\\x99Ã\\xa0 provoquer son effondrement. Cette implosion sans soubresauts, sans vraie rÃ©volution, se dÃ©veloppe comme un mauvais rÃªve.Le talent de lâ\\x80\\x99auteur, sa force visionnaire nous entraÃ®nent sur un terrain ambigu et glissant ; son regard sur notre civilisation vieillissante fait coexister dans ce roman les intuitions poÃ©tiques, les effets comiques, une mÃ©lancolie fataliste.Ce livre est une saisissante fable politique et morale. ...more'},\n",
       " {'url': 'https://books.toscrape.com/catalogue/sharp-objects_997/index.html',\n",
       "  'title': 'Sharp Objects',\n",
       "  'description': 'WICKED above her hipbone, GIRL across her heart Words are like a road map to reporter Camille Preakerâ\\x80\\x99s troubled past. Fresh from a brief stay at a psych hospital, Camilleâ\\x80\\x99s first assignment from the second-rate daily paper where she works brings her reluctantly back to her hometown to cover the murders of two preteen girls. NASTY on her kneecap, BABYDOLL on her leg Since WICKED above her hipbone, GIRL across her heart Words are like a road map to reporter Camille Preakerâ\\x80\\x99s troubled past. Fresh from a brief stay at a psych hospital, Camilleâ\\x80\\x99s first assignment from the second-rate daily paper where she works brings her reluctantly back to her hometown to cover the murders of two preteen girls. NASTY on her kneecap, BABYDOLL on her leg Since she left town eight years ago, Camille has hardly spoken to her neurotic, hypochondriac mother or to the half-sister she barely knows: a beautiful thirteen-year-old with an eerie grip on the town. Now, installed again in her familyâ\\x80\\x99s Victorian mansion, Camille is haunted by the childhood tragedy she has spent her whole life trying to cut from her memory. HARMFUL on her wrist, WHORE on her ankle As Camille works to uncover the truth about these violent crimes, she finds herself identifying with the young victimsâ\\x80\\x94a bit too strongly. Clues keep leading to dead ends, forcing Camille to unravel the psychological puzzle of her own past to get at the story. Dogged by her own demons, Camille will have to confront what happened to her years before if she wants to survive this homecoming.With its taut, crafted writing, Sharp Objects is addictive, haunting, and unforgettable. ...more'},\n",
       " {'url': 'https://books.toscrape.com/catalogue/sapiens-a-brief-history-of-humankind_996/index.html',\n",
       "  'title': 'Sapiens: A Brief History of Humankind',\n",
       "  'description': 'From a renowned historian comes a groundbreaking narrative of humanityâ\\x80\\x99s creation and evolutionâ\\x80\\x94a #1 international bestsellerâ\\x80\\x94that explores the ways in which biology and history have defined us and enhanced our understanding of what it means to be â\\x80\\x9chuman.â\\x80\\x9dOne hundred thousand years ago, at least six different species of humans inhabited Earth. Yet today there is only oneâ\\x80\\x94h From a renowned historian comes a groundbreaking narrative of humanityâ\\x80\\x99s creation and evolutionâ\\x80\\x94a #1 international bestsellerâ\\x80\\x94that explores the ways in which biology and history have defined us and enhanced our understanding of what it means to be â\\x80\\x9chuman.â\\x80\\x9dOne hundred thousand years ago, at least six different species of humans inhabited Earth. Yet today there is only oneâ\\x80\\x94homo sapiens. What happened to the others? And what may happen to us?Most books about the history of humanity pursue either a historical or a biological approach, but Dr. Yuval Noah Harari breaks the mold with this highly original book that begins about 70,000 years ago with the appearance of modern cognition. From examining the role evolving humans have played in the global ecosystem to charting the rise of empires, Sapiens integrates history and science to reconsider accepted narratives, connect past developments with contemporary concerns, and examine specific events within the context of larger ideas.Dr. Harari also compels us to look ahead, because over the last few decades humans have begun to bend laws of natural selection that have governed life for the past four billion years. We are acquiring the ability to design not only the world around us, but also ourselves. Where is this leading us, and what do we want to become?Featuring 27 photographs, 6 maps, and 25 illustrations/diagrams, this provocative and insightful work is sure to spark debate and is essential reading for aficionados of Jared Diamond, James Gleick, Matt Ridley, Robert Wright, and Sharon Moalem. ...more'}]"
      ]
     },
     "execution_count": 369,
     "metadata": {},
     "output_type": "execute_result"
    }
   ],
   "source": [
    "#Question 1\n",
    "def get_book_description(books):\n",
    "    book_descriptions = []\n",
    "    \n",
    "    for book in books: \n",
    "        page_url = book[\"url\"]\n",
    "\n",
    "        res = requests.get(page_url)\n",
    "        soup = BeautifulSoup(res.text, \"html.parser\")\n",
    "\n",
    "        # tip: look at the Google Inspector screenshot below \n",
    "        description = soup.find(id=\"content_inner\").find_all(\"p\")[3].get_text()\n",
    "        title = soup.find(id=\"content_inner\").find('img')['alt']\n",
    "        book_descriptions.append({'url': page_url,\n",
    "                                  'title': title,\n",
    "                                  'description': description})\n",
    "    return book_descriptions\n",
    "\n",
    "book_descriptions = get_book_description(book_list[0:5])\n",
    "book_descriptions\n",
    "\n",
    "#Question 2\n",
    "# tÃ©gÃ© (or similarly encoded strings) are characters from languages other than English, which use an extended character space."
   ]
  },
  {
   "cell_type": "markdown",
   "metadata": {},
   "source": [
    "<img src=\"images/black_dust.png\" align=\"left\" width=70% style=\"border: 1px solid black\" />"
   ]
  },
  {
   "cell_type": "markdown",
   "metadata": {},
   "source": [
    "---\n",
    "### 2.6 Scraping to a CSV file"
   ]
  },
  {
   "cell_type": "markdown",
   "metadata": {},
   "source": [
    "**Importance**  \n",
    "Lastly, we convert the list of dictionaries into a Comma Separated Values (CSV) file, which you can open up in any spreadsheet program (e.g., Excel). \n",
    "\n",
    "More specifically, we'd like to have a file with three columns, containing:\n",
    "- the book title, \n",
    "- the product description, and \n",
    "- the current date and time. \n",
    "\n",
    "The latter helps you to distinguish between data from scrapers you run repeatedly. For example, you may run the book scraper at the beginning of every month to keep track of price changes of any of the books. Although you could store the data of each extraction moment into a separate file (e.g., `2021_01_01_book_prices.csv` for January 2021, `2021_02_01_book_prices.csv` for February 2021), we recommend always including a timestamp column to your scraped datasets. After all, losing or overwriting data can be disastrous (especially for scrapers) as you may never be able to obtain historical data (e.g., the price of a book 2 months ago)."
   ]
  },
  {
   "cell_type": "markdown",
   "metadata": {},
   "source": [
    "In that light, we import the `datetime` library which contains a function `now()` that automatically determines the current date and time which we'll incorporate into our final dataset. Run the cell a few times, and observe how the values update to the current time: "
   ]
  },
  {
   "cell_type": "code",
   "execution_count": 348,
   "metadata": {},
   "outputs": [
    {
     "name": "stdout",
     "output_type": "stream",
     "text": [
      "2020-12-18 20:45:05.252044\n"
     ]
    }
   ],
   "source": [
    "from datetime import datetime\n",
    "\n",
    "now = datetime.now()\n",
    "print(now)"
   ]
  },
  {
   "cell_type": "markdown",
   "metadata": {},
   "source": [
    "In essence, CSV-files are simply text files with symbols that indicate the beginning of a new column (i.e., delimiter). Below you find a screenshot of the `book_descriptions.csv` file opened in a basic text editor. Every `;` and enter (empty line) indicate the start of a new column and row, respectively.\n",
    "\n",
    "<img src=\"images/csv_files.png\" align=\"left\" width=50% style=\"border: 1px solid black\" />"
   ]
  },
  {
   "cell_type": "markdown",
   "metadata": {},
   "source": [
    "Excel then applies this logic - converting semicolons and empty lines - to assign the data points to their respective cells: "
   ]
  },
  {
   "cell_type": "markdown",
   "metadata": {},
   "source": [
    "<img src=\"images/excel.png\" align=\"left\" width=50% style=\"border: 1px solid black\" />"
   ]
  },
  {
   "cell_type": "markdown",
   "metadata": {},
   "source": [
    "It gets more complicated once the delimiter has been embodied into data. For example, a comma is sometimes also used as a delimiter, but that would not work here because the product description also contains commas (e.g., `No matter how busy he keeps himself, successful Broadway...`). In that case, the part after the comma (`successful Broadway...`) would be regarded as a new column, whereas it actually still belongs to the product description. For that reason, setting the delimiter to `;` is a safer choice here. In practice, tabs \"\\t\" are also frequently used."
   ]
  },
  {
   "cell_type": "markdown",
   "metadata": {},
   "source": [
    "**Let's try it out!**   \n",
    "We can write to a text file with the `csv` library. The first row is the header and contains the three column names (`\"title\", \"description\", \"date_time\"`). Thereafter, we iterate over the list and add the current date time to it. Importantly, the `w` flag in the `with` statement indicates that the file will be overwritten every time the cell is executed. If you, however, want to append data to an existing file and avoid losing historical data, you can swap `w` for `a`. "
   ]
  },
  {
   "cell_type": "code",
   "execution_count": 374,
   "metadata": {},
   "outputs": [
    {
     "name": "stdout",
     "output_type": "stream",
     "text": [
      "done!\n"
     ]
    }
   ],
   "source": [
    "import csv \n",
    "\n",
    "with open(\"book_descriptions.csv\", \"w\") as csv_file: # <<- this is the line with the \"flag\"l see exercises below\n",
    "    writer = csv.writer(csv_file, delimiter = \";\")\n",
    "    writer.writerow([\"title\", \"description\", \"date_time\"])\n",
    "    now = datetime.now()\n",
    "    for book in book_descriptions:\n",
    "        writer.writerow([book['title'], book['description'], now])\n",
    "print('done!')"
   ]
  },
  {
   "cell_type": "markdown",
   "metadata": {},
   "source": [
    "#### Exercise 10\n",
    "1. Run the cell above and look at the `book_descriptions.csv` file in Excel. Make sure it looks like the screenshot above (3 columns x 4 rows). Depending on the language settings on your machine, the data may not be correctly distributed over the columns. In that case, go to the \"Data\" tab in Excel, click the \"Text to Columns\" button in the ribbon, choose \"Delimited\", put a checkmark in front of \"Semicolon\", and choose \"Finish\".\n",
    "\n",
    "<img src=\"images/text_to_column.gif\" align=\"left\" width=60% style=\"border: 1px solid black\" />"
   ]
  },
  {
   "cell_type": "markdown",
   "metadata": {},
   "source": [
    "2. Close Excel, change the flag to `a`, and run the cell again. Open the `book_descriptions.csv` file again (and repeat the Text to Columns procedure if necessary). How does the output differ from the previous step? Why is that? "
   ]
  },
  {
   "cell_type": "markdown",
   "metadata": {},
   "source": [
    "#### Solutions\n",
    "2. It shows the same data, including the header, twice (below one another). It goes beyond the scope of this course to define better alternatives (e.g., save data to a database).\n",
    "---\n",
    "\n",
    "### 2.8 Wrap-Up\n",
    "At the beginning of this tutorial, we set out the promise of writing multi-page scrapers from start to finish. Although the examples we have studied are relatively simple, the same principles (seed definition, data extraction plan, page-level data collection) apply to any other website you'd like to scrape. \n",
    "\n",
    "Now that you have hopefully got the hang of using Jupyter Notebooks, we're going to introduce you to an alternative that goes hand in hand with what you have learned thus far, but overcomes some of its limitations."
   ]
  },
  {
   "cell_type": "markdown",
   "metadata": {},
   "source": [
    "## 3. Executing Python Files\n",
    "\n",
    "### 3.1 Jupyter Notebooks versus Spyder\n",
    "\n",
    "Jupyter Notebooks are ideal for combining programming and markdown (e.g., text, plots, equations), making it the default choice for sharing and presenting reproducible data analyses. Since we can execute code blocks one by one, it's suitable for developing and debugging code on the fly. \n",
    "\n",
    "That said, Jupyter Notebooks also have some severe limitations when using them in production environments. That's where Spyder comes in, which is \"Integrated Development Environment\" (IDE). A fancy word, we know. So, let's revisit the most important differences.\n",
    "\n",
    "First, the order in which you run cells within a notebook may affect the results. While prototyping, you may lose sight of the top-down hierarchy, which can cause problems once you restart the kernel (e.g., a library is imported after it is being used). Second, there is no easy way to browse through directories and files within a Jupyter Notebook. Third, notebooks cannot handle large codebases nor big data remarkably well. \n",
    "\n",
    "That's why we recommend starting in Jupyter Notebooks, moving code into functions along the way, and once all seems to be running well, copy-paste all necessary code into Spyder. From there, you can save it as a Python file (`.py`) - rather than a notebook (`.ipynb`) - and execute the file from the command line. Next, we introduce you to the Spyder IDE and learn how to run Python files from the command line. \n",
    "\n",
    "### 3.2 Introduction to Spyder\n",
    "The first time you need to click on the green \"Install\" button in Anaconda Navigator, after which you start Spyder by clicking on the blue \"Launch\" button (alternatively, type `spyder` in the terminal). \n",
    "\n",
    "<img src=\"images/anaconda_navigator.png\" width=90% align=\"left\" style=\"border: 1px solid black\" />\n"
   ]
  },
  {
   "cell_type": "markdown",
   "metadata": {},
   "source": [
    "The main interface consists of three panels: \n",
    "1. **Code editor** = where you write Python code (i.e., the content of code cells in a notebook)\n",
    "2. **Variable / files** = depending on which tab you choose either an overview of all declared variables (e.g. look up their type or change their values) or a file explorer (e.g., to open other Python files)\n",
    "3. **Console** = the output of running the Python script from the code editor (what normally appears below each cell in a notebook)\n",
    "\n",
    "<img src=\"images/spyder.png\" width=90% align=\"left\" style=\"border: 1px solid black\" />"
   ]
  },
  {
   "cell_type": "markdown",
   "metadata": {},
   "source": [
    "**Let's try it out!**     \n",
    "In the `webscraping_101.py` file above, we have put together all code snippets from this notebook needed to scrape and store the URLs of all books. To run the script you either click on the green play button to run all code (from line 1 to 46). As an alternative, you can highlight the parts of the script you want to execute and then click the run selection button.\n",
    "\n",
    "<img src=\"images/toolbar.png\" width=40% align=\"left\" style=\"border: 1px solid black\" />"
   ]
  },
  {
   "cell_type": "markdown",
   "metadata": {},
   "source": [
    "Once the script is running, you may need to interrupt the execution because it is simply taking too long or you spotted a bug somewhere. Click on the red rectangular in the console to stop the execution. \n",
    "\n",
    "<img src=\"images/interrupt.gif\" width=80% align=\"left\" style=\"border: 1px solid black\" />"
   ]
  },
  {
   "cell_type": "markdown",
   "metadata": {},
   "source": [
    "#### Exercise 11\n",
    "1. Start Spyder and open `webscraping101.py` (`File` > `Open`). Compare this notebook and the Python script in Spyder side-by-side: which do you find clearer? \n",
    "2. Run the script and then open the `book_urls.csv` file in Excel. Where is the file stored on your computer? How many records are there?"
   ]
  },
  {
   "cell_type": "markdown",
   "metadata": {},
   "source": [
    "#### Solutions\n",
    "1. It remains a personal opinion, but we'd say the `.py` looks neater because all the code is in the same view (e.g., all import statements below each other rather than spreading them throughout your notebook)\n",
    "2. Exported files appear in the same working directory (unless specified differently). The `book_urls.csv` file contains 1000 rows (999 records and 1 header row)."
   ]
  },
  {
   "cell_type": "markdown",
   "metadata": {},
   "source": [
    "### 3.3 Run Python Files \n",
    "* *Mac*\n",
    "    1. Open the terminal and navigate to the folder in which the `.py` file has been saved (use `cd` to change directories and `ls` to list all files).\n",
    "    2. Run the Python script by typing `python <FILENAME.py>` (e.g., `python webscraping_101.py`).\n",
    "\n",
    "<img src=\"images/running_python.gif\" width=60% align=\"left\" style=\"border: 1px solid black\" />"
   ]
  },
  {
   "cell_type": "markdown",
   "metadata": {},
   "source": [
    "* *Windows*\n",
    "    1. Open Windows explorer and navigate to the folder in which the `.py` file has been saved. Type `cmd` to open the command prompt. Alternatively, open the command prompt from the start menu (and use `cd` to change directories and `dir` to list files).\n",
    "    2. Activate Anaconda by typing `conda activate`.\n",
    "    3. Run the Python script by typing `python <FILENAME.py>` (e.g., `python webscraping_101.py`)."
   ]
  },
  {
   "cell_type": "markdown",
   "metadata": {},
   "source": [
    "### 3.4 Wrap-up\n",
    "\n",
    "Congrats! You've made it, and learnt so much. Take a step back now, let it sink in, and then get creative on how you could use the skills you've learnt. \n",
    "\n",
    "This is the end of this tutorial. Keep up the good work!"
   ]
  }
 ],
 "metadata": {
  "kernelspec": {
   "display_name": "Python 3",
   "language": "python",
   "name": "python3"
  },
  "language_info": {
   "codemirror_mode": {
    "name": "ipython",
    "version": 3
   },
   "file_extension": ".py",
   "mimetype": "text/x-python",
   "name": "python",
   "nbconvert_exporter": "python",
   "pygments_lexer": "ipython3",
   "version": "3.8.3"
  }
 },
 "nbformat": 4,
 "nbformat_minor": 4
}
